{
 "cells": [
  {
   "cell_type": "code",
   "execution_count": 46,
   "metadata": {},
   "outputs": [],
   "source": [
    "import re\n",
    "import json\n",
    "import subprocess\n",
    "\n",
    "from openai import OpenAI\n",
    "import sys\n",
    "sys.path.append('../')\n",
    "from prompts.design_prompt import design_prompt\n",
    "from prompts.parsing_prompt import parsing_prompt\n",
    "from prompts.scripting_prompt import scripting_prompt"
   ]
  },
  {
   "cell_type": "code",
   "execution_count": 4,
   "metadata": {},
   "outputs": [],
   "source": [
    "with open('../config/config.json') as f:\n",
    "     config = json.load(f)\n",
    "\n",
    "client = OpenAI(api_key=config['OPENAI_API_KEY'])"
   ]
  },
  {
   "cell_type": "code",
   "execution_count": 16,
   "metadata": {},
   "outputs": [],
   "source": [
    "design_description = f\"\"\" \n",
    "Suppose there is a one-stage system with two helical gears with a 30 degree pitch angle.\n",
    "Their gear axes are parallel and the distance between two axes is 50mm. \n",
    "The height of both gears are 20 and 15 degree respectively.\n",
    "Currently, there is a requirements for the reduction system that the desired gear ratio is 1.5:1, \n",
    "Set the driving gear to the center of the plane, which is the coordinate (0, 0)\n",
    "Based on the given information, computer module number, teeth number of both gears and the coordniate of the driven gear centers.\n",
    "\"\"\""
   ]
  },
  {
   "cell_type": "code",
   "execution_count": 17,
   "metadata": {},
   "outputs": [],
   "source": [
    "design_messages=[\n",
    "        {\"role\": \"system\", \"content\": design_prompt},\n",
    "        {\"role\": \"user\", \"content\": design_description},\n",
    "    ]"
   ]
  },
  {
   "cell_type": "code",
   "execution_count": 18,
   "metadata": {},
   "outputs": [],
   "source": [
    "# stop_tokens = ['']\n",
    "# collected_tokens = []\n",
    "\n",
    "# res = client.chat.completions.create(\n",
    "#     model=config['GPT_MODEL'],\n",
    "#     messages=design_messages,\n",
    "#     stream=True,\n",
    "# )\n",
    "\n",
    "# for chunk in res:\n",
    "#     temp_tokens = chunk.choices[0].delta.content\n",
    "#     if temp_tokens not in stop_tokens:\n",
    "#         collected_tokens.append(temp_tokens)\n",
    "#     else:\n",
    "#         chunk_res = \"\".join(collected_tokens).strip()\n",
    "#         print(chunk_res)\n",
    "#         collected_tokens = []\n",
    "\n",
    "res = client.chat.completions.create(\n",
    "    model=config['GPT_MODEL'],\n",
    "    messages=design_messages,\n",
    "    # temperature=0\n",
    ")"
   ]
  },
  {
   "cell_type": "code",
   "execution_count": 19,
   "metadata": {},
   "outputs": [
    {
     "name": "stdout",
     "output_type": "stream",
     "text": [
      "To design this gear system, we need to establish the basic geometric and kinematic relationships between the two gears. Here's how we can compute the parameters step by step.\n",
      "\n",
      "Given the following information:\n",
      "- Helical gears with a 30-degree pitch angle (α)\n",
      "- Center distance (A) between gear axes: 50mm\n",
      "- Gear ratio (i): 1.5:1\n",
      "- The height of gear teeth are irrelevant in gear ratio calculations\n",
      "- Driving gear centered at coordinate (0, 0)\n",
      "\n",
      "### Step 1: Determine the Gear Ratio\n",
      "The gear ratio (i) is given by the ratio of the number of teeth on the driven gear (N2) to the number of teeth on the driving gear (N1):\n",
      "\n",
      "\\[ i = \\frac{N2}{N1} \\]\n",
      "\n",
      "With the desired gear ratio being 1.5:1, we get:\n",
      "\n",
      "\\[ i = 1.5 = \\frac{N2}{N1} \\]\n",
      "\n",
      "### Step 2: Calculate the Number of Teeth\n",
      "For standard gear systems, the number of teeth should ideally be a reasonable whole number to make manufacturing simpler. The precise number of teeth depends on other factors, including the module and pitch diameter.\n",
      "\n",
      "### Step 3: Calculate the Module\n",
      "The module (m) can be related to the pitch diameter (d) and number of teeth (N) using the formula:\n",
      "\n",
      "\\[ m = \\frac{d}{N} \\]\n",
      "\n",
      "The center distance (A) is related to the pitch diameters (d1 and d2) of the two gears:\n",
      "\n",
      "\\[ A = \\frac{d1 + d2}{2} \\]\n",
      "\n",
      "Since \\( A = 50mm \\) and \\( i = \\frac{N2}{N1} = 1.5 \\), we can choose an appropriate number of teeth for the driving gear (N1) and calculate N2 using the gear ratio:\n",
      "\n",
      "\\[ N2 = i \\cdot N1 \\]\n",
      "\n",
      "Let's assume N1 is 20 (a reasonable choice for practical gear design, giving us whole numbers while considering the standard manufacturing capabilities). Then we calculate N2:\n",
      "\n",
      "\\[ N2 = 1.5 \\cdot 20 = 30 \\]\n",
      "\n",
      "### Step 4: Determine the Module Based on Center Distance\n",
      "Now we need to select an appropriate module (m) which satisfies our size constraints. Based on the above formula for the center distance:\n",
      "\n",
      "\\[ 50mm = \\frac{d1 + d2}{2} = \\frac{m \\cdot (N1 + N2)}{2} \\]\n",
      "\n",
      "Plugging in the values for N1 and N2:\n",
      "\n",
      "\\[ 50mm = \\frac{m \\cdot (20 + 30)}{2} \\]\n",
      "\n",
      "From this, we can solve for m:\n",
      "\n",
      "\\[ m = \\frac{100mm}{50} = 2mm \\]\n",
      "\n",
      "However, 2mm is not in the priority list of module numbers. We must round to the nearest preferred module number. The closest is 2mm, which is already a preferred number, so we will use that.\n",
      "\n",
      "### Step 5: Calculate Pitch Diameters\n",
      "Now that we know the module (m = 2mm), we can find the pitch diameters (d1 and d2):\n",
      "\n",
      "\\[ d1 = m \\cdot N1 = 2mm \\cdot 20 = 40mm \\]\n",
      "\\[ d2 = m \\cdot N2 = 2mm \\cdot 30 = 60mm \\]\n",
      "\n",
      "### Step 6: Determine the Coordinates of the Driven Gear\n",
      "Since the driving gear is at the origin (0,0), and the axes are 50mm apart (A = 50mm), the center of the driven gear (gear 2) will be:\n",
      "\n",
      "\\[ (x2, y2) = (50mm, 0) \\]\n",
      "\n",
      "This is because they are on the same horizontal line, and the distance between centers is the same as A.\n",
      "\n",
      "### Step 7: Verify the Calculations\n",
      "Let's verify the calculations with the given center distance A:\n",
      "\n",
      "\\[ A = \\frac{d1 + d2}{2} = \\frac{40mm + 60mm}{2} = 50mm \\]\n",
      "\n",
      "This matches our given center distance, so the verification is successful.\n",
      "\n",
      "### Final Result:\n",
      "- gear 1 (driving gear): helical gear, module 2mm, 20 teeth, pitch diameter 40mm, coordinate (0, 0)\n",
      "- gear 2 (driven gear): helical gear, module 2mm, 30 teeth, pitch diameter 60mm, coordinate (50, 0)\n",
      "\n",
      "The result satisfies the gear ratio of 1.5:1 and adheres to the given requirements and constraints.\n"
     ]
    }
   ],
   "source": [
    "print(res.choices[0].message.content)"
   ]
  },
  {
   "cell_type": "code",
   "execution_count": 20,
   "metadata": {},
   "outputs": [],
   "source": [
    "with open(\"../common/helix_gear/gear_design.md\", \"w\") as f:\n",
    "    f.write(res.choices[0].message.content)"
   ]
  },
  {
   "cell_type": "code",
   "execution_count": 26,
   "metadata": {},
   "outputs": [],
   "source": [
    "parsing_description = \\\n",
    "f\"gear 1 (driving gear): helical gear, module 2mm, 20 teeth, pitch diameter 40mm, coordinate (0, 0)\" + \\\n",
    "f\"pitch angle 30 degrees, pressure angle 20, height 20mm\" + \\\n",
    "f\"gear 2 (driven gear): helical gear, module 2mm, 30 teeth, pitch diameter 60mm, coordinate (50, 0)\" + \\\n",
    "f\"pitch angle 30 degrees, pressure angle 20, height 15mm\""
   ]
  },
  {
   "cell_type": "code",
   "execution_count": 27,
   "metadata": {},
   "outputs": [],
   "source": [
    "parsing_messages = [\n",
    "    {\"role\": \"system\", \"content\": parsing_prompt},\n",
    "    {\"role\": \"user\", \"content\": parsing_description},\n",
    "]"
   ]
  },
  {
   "cell_type": "code",
   "execution_count": 28,
   "metadata": {},
   "outputs": [],
   "source": [
    "parsing_response = client.chat.completions.create(\n",
    "    model=config['GPT_MODEL'],\n",
    "    response_format={ \"type\": \"json_object\" },\n",
    "    messages=parsing_messages,\n",
    ")"
   ]
  },
  {
   "cell_type": "code",
   "execution_count": 29,
   "metadata": {},
   "outputs": [
    {
     "name": "stdout",
     "output_type": "stream",
     "text": [
      "{\n",
      "  \"gear 1\": {\n",
      "    \"gear_type\": \"helix\",\n",
      "    \"coordinate\": {\n",
      "      \"x\": 0,\n",
      "      \"y\": 0,\n",
      "      \"z\": 0,\n",
      "      \"alpha\": 0,\n",
      "      \"beta\": 0,\n",
      "      \"gamma\": 0\n",
      "    },\n",
      "    \"unit\": \"mm\",\n",
      "    \"module\": 2,\n",
      "    \"teeth\": 20,\n",
      "    \"height\": 20,\n",
      "    \"pitch_d\": 40,\n",
      "    \"pitch_angle\": 30,\n",
      "    \"pressure_angle\": 20\n",
      "  },\n",
      "  \"gear 2\": {\n",
      "    \"gear_type\": \"helix\",\n",
      "    \"coordinate\": {\n",
      "      \"x\": 50,\n",
      "      \"y\": 0,\n",
      "      \"z\": 0,\n",
      "      \"alpha\": 0,\n",
      "      \"beta\": 0,\n",
      "      \"gamma\": 0\n",
      "    },\n",
      "    \"unit\": \"mm\",\n",
      "    \"module\": 2,\n",
      "    \"teeth\": 30,\n",
      "    \"height\": 15,\n",
      "    \"pitch_d\": 60,\n",
      "    \"pitch_angle\": 30,\n",
      "    \"pressure_angle\": 20\n",
      "  }\n",
      "}\n"
     ]
    }
   ],
   "source": [
    "gears_parameters = parsing_response.choices[0].message.content.strip()\n",
    "print(gears_parameters)"
   ]
  },
  {
   "cell_type": "code",
   "execution_count": 30,
   "metadata": {},
   "outputs": [],
   "source": [
    "with open(\"../common/helix_gear/gears_parameters.json\", \"w\") as f:\n",
    "    f.write(gears_parameters)"
   ]
  },
  {
   "cell_type": "code",
   "execution_count": 42,
   "metadata": {},
   "outputs": [],
   "source": [
    "with open(\"../common/helix_gear/gears_parameters.json\", \"r\") as f:\n",
    "    parameters = json.load(f)\n",
    "parameters = str(parameters)\n",
    "\n",
    "scripting_description = f\"Write a script according to provided procedure with parameters of gears\" + parameters"
   ]
  },
  {
   "cell_type": "code",
   "execution_count": 43,
   "metadata": {},
   "outputs": [],
   "source": [
    "script_messages = [\n",
    "    {\"role\": \"system\", \"content\": scripting_prompt},\n",
    "    {\"role\": \"user\", \"content\": scripting_description}\n",
    "]"
   ]
  },
  {
   "cell_type": "code",
   "execution_count": 44,
   "metadata": {},
   "outputs": [],
   "source": [
    "scripting_response = client.chat.completions.create(\n",
    "    model=config['GPT_MODEL'],\n",
    "    messages=script_messages,\n",
    "    temperature=0\n",
    ")"
   ]
  },
  {
   "cell_type": "code",
   "execution_count": 47,
   "metadata": {},
   "outputs": [
    {
     "name": "stdout",
     "output_type": "stream",
     "text": [
      "// Gear 1\n",
      "translate([0, 0, 0]) rotate([0, 0, 360 / (20 * 2)]) gear_helix(m = 2, z = 20, x = 0, h = 20, w = 20, w_helix = 30);\n",
      "\n",
      "// Gear 2\n",
      "translate([50, 0, 0]) rotate([0, 0, 360 / (30 * 2)]) gear_helix(m = 2, z = 30, x = 0, h = 15, w = 20, w_helix = -30);\n"
     ]
    }
   ],
   "source": [
    "script = scripting_response.choices[0].message.content.strip()\n",
    "# print(script)\n",
    "\n",
    "# Define the regular expression pattern to match the openscad code block\n",
    "pattern = re.compile(r'```openscad(.*?)```', re.DOTALL)\n",
    "\n",
    "# Use findall to get all matches\n",
    "matches = re.findall(pattern, script)\n",
    "\n",
    "# Print the extracted code blocks\n",
    "for match in matches:\n",
    "    print(match.strip())"
   ]
  },
  {
   "cell_type": "code",
   "execution_count": 49,
   "metadata": {},
   "outputs": [],
   "source": [
    "with open(\"../common/helix_gear/gears_script.scad\", \"w\") as f:\n",
    "    f.write(\"include <gears.scad>\\n\")\n",
    "\n",
    "with open(\"../common/helix_gear/gears_script.scad\", \"a\") as f:\n",
    "    for match in matches:\n",
    "        f.write(\"\\n\" + match.strip())"
   ]
  },
  {
   "cell_type": "code",
   "execution_count": 50,
   "metadata": {},
   "outputs": [
    {
     "data": {
      "text/plain": [
       "<Popen: returncode: None args: ['D:\\\\openSCAD\\\\install\\\\openscad.exe', '../c...>"
      ]
     },
     "execution_count": 50,
     "metadata": {},
     "output_type": "execute_result"
    }
   ],
   "source": [
    "subprocess.Popen([\"D:\\openSCAD\\install\\openscad.exe\",\n",
    "                 \"../common/helix_gear/gears_script.scad\"])"
   ]
  },
  {
   "cell_type": "code",
   "execution_count": null,
   "metadata": {},
   "outputs": [],
   "source": []
  }
 ],
 "metadata": {
  "kernelspec": {
   "display_name": "chatbot",
   "language": "python",
   "name": "python3"
  },
  "language_info": {
   "codemirror_mode": {
    "name": "ipython",
    "version": 3
   },
   "file_extension": ".py",
   "mimetype": "text/x-python",
   "name": "python",
   "nbconvert_exporter": "python",
   "pygments_lexer": "ipython3",
   "version": "3.10.13"
  }
 },
 "nbformat": 4,
 "nbformat_minor": 2
}
