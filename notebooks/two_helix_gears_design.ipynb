{
 "cells": [
  {
   "cell_type": "code",
   "execution_count": 24,
   "metadata": {},
   "outputs": [],
   "source": [
    "import os\n",
    "import re\n",
    "import json\n",
    "import subprocess\n",
    "\n",
    "from openai import OpenAI\n",
    "import sys\n",
    "sys.path.append('../')\n",
    "from prompts.design_prompt import design_prompt\n",
    "from prompts.parsing_prompt import parsing_prompt\n",
    "from prompts.scripting_prompt import scripting_prompt"
   ]
  },
  {
   "cell_type": "code",
   "execution_count": 25,
   "metadata": {},
   "outputs": [],
   "source": [
    "with open('../config/config.json') as f:\n",
    "     config = json.load(f)"
   ]
  },
  {
   "cell_type": "code",
   "execution_count": 26,
   "metadata": {},
   "outputs": [],
   "source": [
    "OPENSCAD_EXEC = config[\"OPENSCAD_EXEC_PATH\"]\n",
    "FILE_DIR = \"../common/helix_gear\"\n",
    "DESIGN_FILENAME = \"gears_design.md\"\n",
    "PARAMETERS_FILENAME = \"gears_parameters.json\"\n",
    "SCRIPT_FILENAME = \"gears_script.scad\"\n",
    "if not os.path.exists(FILE_DIR):\n",
    "    os.makedirs(FILE_DIR)"
   ]
  },
  {
   "cell_type": "code",
   "execution_count": 28,
   "metadata": {},
   "outputs": [],
   "source": [
    "client = OpenAI(api_key=config['OPENAI_API_KEY'])"
   ]
  },
  {
   "cell_type": "code",
   "execution_count": 5,
   "metadata": {},
   "outputs": [],
   "source": [
    "design_description = f\"\"\" \n",
    "Suppose there is a one-stage system with two helical gears with a 30 degrees pitch angle.\n",
    "Gear axes are parallel and the distance between two axes is 50mm. \n",
    "The height of driven and driving gears are 20 and 15 degree respectively, the pressure angle are both 20 degrees.\n",
    "The desired gear ratio of the reduction system is 1.5:1, \n",
    "Set the driving gear to the center of the plane, which is the coordinate (0, 0)\n",
    "Based on the given information, computer module number, teeth number of both gears and the coordniate of the driven gear centers.\n",
    "\"\"\""
   ]
  },
  {
   "cell_type": "code",
   "execution_count": 6,
   "metadata": {},
   "outputs": [],
   "source": [
    "design_messages=[\n",
    "        {\"role\": \"system\", \"content\": design_prompt},\n",
    "        {\"role\": \"user\", \"content\": design_description},\n",
    "    ]"
   ]
  },
  {
   "cell_type": "code",
   "execution_count": 7,
   "metadata": {},
   "outputs": [],
   "source": [
    "# stop_tokens = ['']\n",
    "# collected_tokens = []\n",
    "\n",
    "# res = client.chat.completions.create(\n",
    "#     model=config['GPT_MODEL'],\n",
    "#     messages=design_messages,\n",
    "#     stream=True,\n",
    "# )\n",
    "\n",
    "# for chunk in res:\n",
    "#     temp_tokens = chunk.choices[0].delta.content\n",
    "#     if temp_tokens not in stop_tokens:\n",
    "#         collected_tokens.append(temp_tokens)\n",
    "#     else:\n",
    "#         chunk_res = \"\".join(collected_tokens).strip()\n",
    "#         print(chunk_res)\n",
    "#         collected_tokens = []\n",
    "\n",
    "res = client.chat.completions.create(\n",
    "    model=config['GPT_MODEL'],\n",
    "    messages=design_messages,\n",
    "    temperature=0.1\n",
    ")"
   ]
  },
  {
   "cell_type": "code",
   "execution_count": 8,
   "metadata": {},
   "outputs": [
    {
     "name": "stdout",
     "output_type": "stream",
     "text": [
      "To design a one-stage helical gear system that meets the given requirements, we'll follow these steps:\n",
      "\n",
      "1. Determine the gear ratio.\n",
      "2. Select a module number.\n",
      "3. Calculate the number of teeth for both gears.\n",
      "4. Determine the pitch diameters.\n",
      "5. Calculate the center distance.\n",
      "6. Determine the coordinates of the driven gear.\n",
      "\n",
      "### Step 1: Determine Gear Ratio\n",
      "\n",
      "The desired gear ratio is given as 1.5:1, which means that the driving gear must make 1.5 revolutions for every revolution of the driven gear.\n",
      "\n",
      "Let us denote:\n",
      "- $$ N_1 $$ as the number of teeth for the driving gear.\n",
      "- $$ N_2 $$ as the number of teeth for the driven gear.\n",
      "- $$ i $$ as the gear ratio.\n",
      "\n",
      "Therefore, the gear ratio $$ i $$ can be described as:\n",
      "$$ i = \\frac{N_2}{N_1} $$\n",
      "\n",
      "Given that $$ i = 1.5 $$, we can select an initial pair of teeth numbers that closely fit this ratio.\n",
      "\n",
      "### Step 2: Select a Module Number\n",
      "\n",
      "The module number is crucial to define the gear size and is related to the pitch diameter and the number of teeth via the equation:\n",
      "\n",
      "$$ module = \\frac{pitch \\ diameter}{number \\ of \\ teeth} $$\n",
      "\n",
      "For our initial calculation we can start with a module of 1mm as an example, from this we will see if it fits and adjust as necessary.\n",
      "\n",
      "### Step 3: Calculate Number of Teeth for Both Gears\n",
      "\n",
      "To satisfy the gear ratio of 1.5, and starting with a standard number of teeth for the smaller gear, say 20 (a typical selection for smaller gears), the number of teeth on the larger gear should be:\n",
      "\n",
      "$$ N_2 = N_1 \\times i = 20 \\times 1.5 = 30 $$\n",
      "\n",
      "So we have 20 teeth on the driving gear and 30 teeth on the driven gear.\n",
      "\n",
      "### Step 4: Determine the Pitch Diameters\n",
      "\n",
      "The pitch diameter (D) for each gear can be calculated using the module (m) and the number of teeth (N):\n",
      "\n",
      "$$ D = m \\times N $$\n",
      "\n",
      "For the driving gear:\n",
      "$$ D_1 = m \\times N_1 = 1 \\times 20 = 20mm $$\n",
      "\n",
      "For the driven gear:\n",
      "$$ D_2 = m \\times N_2 = 1 \\times 30 = 30mm $$\n",
      "\n",
      "### Step 5: Calculate the Center Distance\n",
      "\n",
      "The center distance (a) for helical gears is given by the sum of the pitch diameters of the two gears divided by 2:\n",
      "\n",
      "$$ a = \\frac{D_1 + D_2}{2} $$\n",
      "\n",
      "$$ a = \\frac{20mm + 30mm}{2} = 25mm $$\n",
      "\n",
      "### Step 6: Coordinates of the Driven Gear\n",
      "\n",
      "Since the driving gear is located at the center of the plane, which is (0,0), and the distance between the axes is 50mm, the driven gear must then be displaced by 50mm along the x-axis.\n",
      "\n",
      "The coordinates of the driven gear center would then be (50, 0).\n",
      "\n",
      "### Review and Finalizing\n",
      "\n",
      "Now, we must check if the center distance (calculated as 25mm) matches the given condition (50mm). If not, we must adjust the module or the number of teeth to meet this distance and still maintain or exceed the desired gear ratio and ensure that the modules coincide with the priority or alternate numbers.\n",
      "\n",
      "In our case, the calculated center distance does not match the required center distance of 50mm, so we must adjust our values.\n",
      "\n",
      "To get a center distance of 50mm, let's increase our module to match this. We choose a pair of teeth numbers that maintain the gear ratio above 1.5, and the module then matches the product of half the center distance and sum of teeth number as follows:\n",
      "\n",
      "$$ m = \\frac{2 \\times a}{N_1 + N_2} $$\n",
      "\n",
      "We keep the numbers of teeth the same for initial calculation:\n",
      "$$ m = \\frac{2 \\times 50mm}{20 + 30} $$\n",
      "$$ m = \\frac{100}{50} = 2mm $$\n",
      "\n",
      "The module of 2 is a number from the priority list, which is good. Now we recalculate the pitch diameters with this new module:\n",
      "\n",
      "For the driving gear:\n",
      "$$ D_1 = 2 \\times 20 = 40mm $$\n",
      "\n",
      "For the driven gear:\n",
      "$$ D_2 = 2 \\times 30 = 60mm $$\n",
      "\n",
      "Now we check the center distance:\n",
      "$$ a = \\frac{D_1 + D_2}{2} = \\frac{40mm + 60mm}{2} = \\frac{100mm}{2} = 50mm $$\n",
      "\n",
      "The center distance is correct, so our parameters are chosen properly. \n",
      "\n",
      "With these new parameters, we have:\n",
      "\n",
      "gear 1 (driving gear): helical gear, module 2mm, teeth 20, pitch diameter 40mm, helix angle 20 degrees, height 15mm, coordinate (0, 0)\n",
      "gear 2 (driven gear): helical gear, module 2mm, teeth 30, pitch diameter 60mm, helix angle 20 degrees, height 20mm, coordinate (50, 0)\n",
      "\n",
      "The gear ratio now is actually:\n",
      "$$ i = \\frac{N_2}{N_1} = \\frac{30}{20} = 1.5 $$\n",
      "\n",
      "So the design meets the required gear ratio.\n"
     ]
    }
   ],
   "source": [
    "print(res.choices[0].message.content)"
   ]
  },
  {
   "cell_type": "code",
   "execution_count": 12,
   "metadata": {},
   "outputs": [],
   "source": [
    "with open(os.path.join(FILE_DIR, DESIGN_FILENAME), \"w\") as f:\n",
    "    f.write(res.choices[0].message.content)"
   ]
  },
  {
   "cell_type": "code",
   "execution_count": 15,
   "metadata": {},
   "outputs": [],
   "source": [
    "parsing_description = \\\n",
    "f\"gear 1 (driving gear): helical gear, module 2mm, teeth 20, pitch diameter 40mm, helix angle 20 degrees, height 15mm, coordinate (0, 0) \" + \\\n",
    "f\"pressure angle 20 degrees\" + \\\n",
    "f\"gear 2 (driven gear): helical gear, module 2mm, teeth 30, pitch diameter 60mm, helix angle 20 degrees, height 20mm, coordinate (50, 0) \" + \\\n",
    "f\"pressure angle 20 degrees\""
   ]
  },
  {
   "cell_type": "code",
   "execution_count": 16,
   "metadata": {},
   "outputs": [],
   "source": [
    "parsing_messages = [\n",
    "    {\"role\": \"system\", \"content\": parsing_prompt},\n",
    "    {\"role\": \"user\", \"content\": parsing_description},\n",
    "]"
   ]
  },
  {
   "cell_type": "code",
   "execution_count": 17,
   "metadata": {},
   "outputs": [],
   "source": [
    "parsing_response = client.chat.completions.create(\n",
    "    model=config['GPT_MODEL'],\n",
    "    response_format={ \"type\": \"json_object\" },\n",
    "    messages=parsing_messages,\n",
    ")"
   ]
  },
  {
   "cell_type": "code",
   "execution_count": 18,
   "metadata": {},
   "outputs": [
    {
     "name": "stdout",
     "output_type": "stream",
     "text": [
      "{\n",
      "  \"gear 1\": {\n",
      "    \"gear_type\": \"helix\",\n",
      "    \"source\": \"driving\",\n",
      "    \"coordinate\": {\n",
      "      \"x\": 0,\n",
      "      \"y\": 0,\n",
      "      \"z\": 0,\n",
      "      \"alpha\": 0,\n",
      "      \"beta\": 0,\n",
      "      \"gamma\": 0\n",
      "    },\n",
      "    \"unit\": \"mm\",\n",
      "    \"module\": 2,\n",
      "    \"teeth\": 20,\n",
      "    \"height\": 15,\n",
      "    \"pitch_d\": 40,\n",
      "    \"helix_angle\": 20,\n",
      "    \"pitch_angle\": 0,\n",
      "    \"pressure_angle\": 20\n",
      "  },\n",
      "    \"gear 2\": {\n",
      "    \"gear_type\": \"helix\",\n",
      "    \"source\": \"driven\",\n",
      "    \"coordinate\": {\n",
      "      \"x\": 50,\n",
      "      \"y\": 0,\n",
      "      \"z\": 0,\n",
      "      \"alpha\": 0,\n",
      "      \"beta\": 0,\n",
      "      \"gamma\": 0\n",
      "    },\n",
      "    \"unit\": \"mm\",\n",
      "    \"module\": 2,\n",
      "    \"teeth\": 30,\n",
      "    \"height\": 20,\n",
      "    \"pitch_d\": 60,\n",
      "    \"helix_angle\": 20,\n",
      "    \"pitch_angle\": 0,\n",
      "    \"pressure_angle\": 20\n",
      "  }\n",
      "}\n"
     ]
    }
   ],
   "source": [
    "gears_parameters = parsing_response.choices[0].message.content.strip()\n",
    "print(gears_parameters)"
   ]
  },
  {
   "cell_type": "code",
   "execution_count": 19,
   "metadata": {},
   "outputs": [],
   "source": [
    "with open(os.path.join(FILE_DIR, PARAMETERS_FILENAME), \"w\") as f:\n",
    "    f.write(gears_parameters)"
   ]
  },
  {
   "cell_type": "code",
   "execution_count": 4,
   "metadata": {},
   "outputs": [],
   "source": [
    "with open(os.path.join(FILE_DIR, PARAMETERS_FILENAME), \"r\") as f:\n",
    "    parameters = json.load(f)\n",
    "parameters = str(parameters)\n",
    "\n",
    "scripting_description = f\"Write a script according to provided parameters of gears \\n\" + parameters"
   ]
  },
  {
   "cell_type": "code",
   "execution_count": 5,
   "metadata": {},
   "outputs": [],
   "source": [
    "script_messages = [\n",
    "    {\"role\": \"system\", \"content\": scripting_prompt},\n",
    "    {\"role\": \"user\", \"content\": scripting_description}\n",
    "]"
   ]
  },
  {
   "cell_type": "code",
   "execution_count": 6,
   "metadata": {},
   "outputs": [],
   "source": [
    "scripting_response = client.chat.completions.create(\n",
    "    model=config['GPT_MODEL'],\n",
    "    messages=script_messages,\n",
    "    temperature=0\n",
    ")"
   ]
  },
  {
   "cell_type": "code",
   "execution_count": 7,
   "metadata": {},
   "outputs": [],
   "source": [
    "def script_postprocessing(script):\n",
    "    # To remove textual perfix or suffix information in the raw script generated by GPT-4\n",
    "    pattern = re.compile(r'```(?:openscad|scad)(.*?)```', re.DOTALL)\n",
    "    matches = re.findall(pattern, script)\n",
    "    clean_script = \"\"\n",
    "    if len(matches) > 0:\n",
    "        for m in matches:\n",
    "            clean_script = clean_script + m.strip()\n",
    "    else:\n",
    "        clean_script = script\n",
    "    return clean_script"
   ]
  },
  {
   "cell_type": "code",
   "execution_count": 8,
   "metadata": {},
   "outputs": [
    {
     "name": "stdout",
     "output_type": "stream",
     "text": [
      "translate([0,0,0]) rotate([0,0,0])\n",
      "gear_helix(m=2, z=20, h=15, w=20, w_helix=20);\n",
      "\n",
      "translate([50,0,0]) rotate([0,0,0])\n",
      "gear_helix(m=2, z=30, h=20, w=20, w_helix=-20);\n"
     ]
    }
   ],
   "source": [
    "script = scripting_response.choices[0].message.content.strip()\n",
    "script = script_postprocessing(script)\n",
    "print(script)"
   ]
  },
  {
   "cell_type": "code",
   "execution_count": 9,
   "metadata": {},
   "outputs": [],
   "source": [
    "with open(os.path.join(FILE_DIR, SCRIPT_FILENAME), \"w\") as f:\n",
    "    f.write(\"include <gears.scad>\")\n",
    "\n",
    "with open(os.path.join(FILE_DIR, SCRIPT_FILENAME), \"a\") as f:\n",
    "    f.write(\"\\n\" + script)"
   ]
  },
  {
   "cell_type": "code",
   "execution_count": 29,
   "metadata": {},
   "outputs": [
    {
     "data": {
      "text/plain": [
       "<Popen: returncode: None args: ['D:\\\\openSCAD\\\\install\\\\openscad.exe', '../c...>"
      ]
     },
     "execution_count": 29,
     "metadata": {},
     "output_type": "execute_result"
    }
   ],
   "source": [
    "subprocess.Popen([OPENSCAD_EXEC, os.path.join(FILE_DIR, SCRIPT_FILENAME)])"
   ]
  },
  {
   "cell_type": "code",
   "execution_count": null,
   "metadata": {},
   "outputs": [],
   "source": []
  }
 ],
 "metadata": {
  "kernelspec": {
   "display_name": "chatbot",
   "language": "python",
   "name": "python3"
  },
  "language_info": {
   "codemirror_mode": {
    "name": "ipython",
    "version": 3
   },
   "file_extension": ".py",
   "mimetype": "text/x-python",
   "name": "python",
   "nbconvert_exporter": "python",
   "pygments_lexer": "ipython3",
   "version": "3.10.13"
  }
 },
 "nbformat": 4,
 "nbformat_minor": 2
}
