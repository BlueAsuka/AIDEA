{
 "cells": [
  {
   "cell_type": "code",
   "execution_count": 1,
   "metadata": {},
   "outputs": [],
   "source": [
    "import os\n",
    "import re\n",
    "import json\n",
    "import subprocess\n",
    "\n",
    "from openai import OpenAI\n",
    "import sys\n",
    "sys.path.append('../')\n",
    "from prompts.design_prompt import design_prompt\n",
    "from prompts.parsing_prompt import parsing_prompt\n",
    "from prompts.scripting_prompt import scripting_prompt"
   ]
  },
  {
   "cell_type": "code",
   "execution_count": 2,
   "metadata": {},
   "outputs": [],
   "source": [
    "with open('../config/config.json') as f:\n",
    "     config = json.load(f)"
   ]
  },
  {
   "cell_type": "code",
   "execution_count": 3,
   "metadata": {},
   "outputs": [],
   "source": [
    "OPENSCAD_EXEC = config[\"OPENSCAD_EXEC_PATH\"]\n",
    "FILE_DIR = \"../common/helix_gear\"\n",
    "DESIGN_FILENAME = \"gears_design.md\"\n",
    "PARAMETERS_FILENAME = \"gears_parameters.json\"\n",
    "SCRIPT_FILENAME = \"gears_script.scad\"\n",
    "if not os.path.exists(FILE_DIR):\n",
    "    os.makedirs(FILE_DIR)"
   ]
  },
  {
   "cell_type": "code",
   "execution_count": 4,
   "metadata": {},
   "outputs": [],
   "source": [
    "client = OpenAI(api_key=config['OPENAI_API_KEY'])"
   ]
  },
  {
   "cell_type": "code",
   "execution_count": 5,
   "metadata": {},
   "outputs": [],
   "source": [
    "design_description = f\"\"\" \n",
    "Suppose there is a one-stage system with two helical gears with a 20 degrees helix angle.\n",
    "Gear axes are parallel and the distance between two axes is 50mm. \n",
    "The height of driven and driving gears are 20mm and 15mm respectively, the pressure angle are both 20 degrees.\n",
    "The desired gear ratio of the reduction system is 1.5:1, \n",
    "Set the driving gear to the center of the plane, which is the coordinate (0, 0)\n",
    "Based on the given information, computer module number, teeth number of both gears and the coordniate of the driven gear centers.\n",
    "\"\"\""
   ]
  },
  {
   "cell_type": "code",
   "execution_count": 6,
   "metadata": {},
   "outputs": [],
   "source": [
    "design_messages=[\n",
    "        {\"role\": \"system\", \"content\": design_prompt},\n",
    "        {\"role\": \"user\", \"content\": design_description},\n",
    "    ]"
   ]
  },
  {
   "cell_type": "code",
   "execution_count": 7,
   "metadata": {},
   "outputs": [],
   "source": [
    "# stop_tokens = ['']\n",
    "# collected_tokens = []\n",
    "\n",
    "# res = client.chat.completions.create(\n",
    "#     model=config['GPT_MODEL'],\n",
    "#     messages=design_messages,\n",
    "#     stream=True,\n",
    "# )\n",
    "\n",
    "# for chunk in res:\n",
    "#     temp_tokens = chunk.choices[0].delta.content\n",
    "#     if temp_tokens not in stop_tokens:\n",
    "#         collected_tokens.append(temp_tokens)\n",
    "#     else:\n",
    "#         chunk_res = \"\".join(collected_tokens).strip()\n",
    "#         print(chunk_res)\n",
    "#         collected_tokens = []\n",
    "\n",
    "res = client.chat.completions.create(\n",
    "    model=config['GPT_MODEL'],\n",
    "    messages=design_messages,\n",
    "    temperature=0.1\n",
    ")"
   ]
  },
  {
   "cell_type": "code",
   "execution_count": 8,
   "metadata": {},
   "outputs": [
    {
     "name": "stdout",
     "output_type": "stream",
     "text": [
      "To design a gear system with the given requirements, we need to calculate the module, number of teeth, and the coordinates of the driven gear center. Let's start by defining the gear ratio and the relationship between the gears.\n",
      "\n",
      "### Gear Ratio\n",
      "The gear ratio (i) is defined as the ratio of the number of teeth on the driven gear (N2) to the number of teeth on the driving gear (N1):\n",
      "\n",
      "$$ i = \\frac{N2}{N1} $$\n",
      "\n",
      "Given that the desired gear ratio is 1.5:1, we can express N2 in terms of N1:\n",
      "\n",
      "$$ N2 = 1.5 \\cdot N1 $$\n",
      "\n",
      "### Module Calculation\n",
      "The module (m) is a measure of the size of the teeth and is related to the pitch diameter (d) and the number of teeth (N) by the formula:\n",
      "\n",
      "$$ m = \\frac{d}{N} $$\n",
      "\n",
      "Since the axes of the two gears are parallel and the center distance (a) is 50mm, we can relate the pitch diameters of the two gears to the center distance:\n",
      "\n",
      "$$ a = \\frac{d1 + d2}{2} $$\n",
      "\n",
      "Substituting the relationship between d and N, and knowing that d2 = 1.5 * d1, we get:\n",
      "\n",
      "$$ 50 = \\frac{d1 + 1.5 \\cdot d1}{2} $$\n",
      "\n",
      "Solving for d1 gives us:\n",
      "\n",
      "$$ 50 = d1 \\cdot (1 + 1.5) / 2 $$\n",
      "$$ 50 = d1 \\cdot 2.5 / 2 $$\n",
      "$$ d1 = \\frac{50 \\cdot 2}{2.5} $$\n",
      "$$ d1 = 40 \\text{mm} $$\n",
      "\n",
      "Now, we can choose a module that fits the standard sizes and allows us to have an integer number of teeth for the driving gear. Since d1 = m * N1, we can rearrange the formula to find N1:\n",
      "\n",
      "$$ N1 = \\frac{d1}{m} $$\n",
      "\n",
      "We need to select a module such that N1 is an integer. Let's start with a module of 2mm (a common standard size) and see if it results in an integer number of teeth:\n",
      "\n",
      "$$ N1 = \\frac{40}{2} $$\n",
      "$$ N1 = 20 $$\n",
      "\n",
      "This is an integer, so a module of 2mm is suitable. Now we can calculate N2:\n",
      "\n",
      "$$ N2 = 1.5 \\cdot N1 $$\n",
      "$$ N2 = 1.5 \\cdot 20 $$\n",
      "$$ N2 = 30 $$\n",
      "\n",
      "### Coordinates of the Driven Gear Center\n",
      "The driving gear is at the center of the plane (0, 0). The driven gear will be positioned at a distance equal to the center distance (a) along the x-axis. Therefore, the coordinates of the driven gear center will be (50, 0).\n",
      "\n",
      "### Final Parameters\n",
      "We have chosen a module of 2mm, which is not a standard size according to the given list. The closest standard size greater than 2mm is 2.5mm. We will use this module and recalculate the number of teeth for both gears.\n",
      "\n",
      "$$ N1 = \\frac{d1}{m} $$\n",
      "$$ N1 = \\frac{40}{2.5} $$\n",
      "$$ N1 = 16 $$\n",
      "\n",
      "Now, we calculate N2 using the gear ratio:\n",
      "\n",
      "$$ N2 = 1.5 \\cdot N1 $$\n",
      "$$ N2 = 1.5 \\cdot 16 $$\n",
      "$$ N2 = 24 $$\n",
      "\n",
      "Both N1 and N2 are integers, so these values are acceptable. The pitch diameters will be:\n",
      "\n",
      "$$ d1 = m \\cdot N1 $$\n",
      "$$ d1 = 2.5 \\cdot 16 $$\n",
      "$$ d1 = 40 \\text{mm} $$\n",
      "\n",
      "$$ d2 = m \\cdot N2 $$\n",
      "$$ d2 = 2.5 \\cdot 24 $$\n",
      "$$ d2 = 60 \\text{mm} $$\n",
      "\n",
      "The center distance will be:\n",
      "\n",
      "$$ a = \\frac{d1 + d2}{2} $$\n",
      "$$ a = \\frac{40 + 60}{2} $$\n",
      "$$ a = 50 \\text{mm} $$\n",
      "\n",
      "This confirms that our choice of module and number of teeth is correct.\n",
      "\n",
      "### Final Result\n",
      "gear 1 (driving gear): helical gear, module 2.5mm, teeth 16, pitch diameter 40mm, helix angle 20 degrees, height 15mm, coordinate (0, 0)\n",
      "gear 2 (driven gear): helical gear, module 2.5mm, teeth 24, pitch diameter 60mm, helix angle 20 degrees, height 20mm, coordinate (50, 0)\n"
     ]
    }
   ],
   "source": [
    "print(res.choices[0].message.content)"
   ]
  },
  {
   "cell_type": "code",
   "execution_count": 9,
   "metadata": {},
   "outputs": [],
   "source": [
    "with open(os.path.join(FILE_DIR, DESIGN_FILENAME), \"w\") as f:\n",
    "    f.write(res.choices[0].message.content)"
   ]
  },
  {
   "cell_type": "code",
   "execution_count": 22,
   "metadata": {},
   "outputs": [],
   "source": [
    "parsing_description = \\\n",
    "f\"gear 1 (driving gear): helical gear, module 2.5mm, teeth 16, pitch diameter 40mm, helix angle 20 degrees, height 15mm, coordinate (0, 0) \" + \\\n",
    "f\"pressure angle 20 degrees\" + \\\n",
    "f\"gear 2 (driven gear): helical gear, module 2.5mm, teeth 24, pitch diameter 60mm, helix angle 20 degrees, height 20mm, coordinate (50, 0) \" + \\\n",
    "f\"pressure angle 20 degrees\""
   ]
  },
  {
   "cell_type": "code",
   "execution_count": 23,
   "metadata": {},
   "outputs": [],
   "source": [
    "parsing_messages = [\n",
    "    {\"role\": \"system\", \"content\": parsing_prompt},\n",
    "    {\"role\": \"user\", \"content\": parsing_description},\n",
    "]"
   ]
  },
  {
   "cell_type": "code",
   "execution_count": 24,
   "metadata": {},
   "outputs": [],
   "source": [
    "parsing_response = client.chat.completions.create(\n",
    "    model=config['GPT_MODEL'],\n",
    "    response_format={ \"type\": \"json_object\" },\n",
    "    messages=parsing_messages,\n",
    ")"
   ]
  },
  {
   "cell_type": "code",
   "execution_count": 25,
   "metadata": {},
   "outputs": [
    {
     "name": "stdout",
     "output_type": "stream",
     "text": [
      "{\n",
      "   \"gear 1\": {\n",
      "      \"gear_type\": \"helix\",\n",
      "      \"source\": \"driving\",\n",
      "      \"coordinate\": {\n",
      "         \"x\": 0,\n",
      "         \"y\": 0,\n",
      "         \"z\": 0,\n",
      "         \"alpha\": 0,\n",
      "         \"beta\": 0,\n",
      "         \"gamma\": 0\n",
      "      },\n",
      "      \"unit\": \"mm\",\n",
      "      \"module\": 2.5,\n",
      "      \"teeth\": 16,\n",
      "      \"height\": 15,\n",
      "      \"pitch_d\": 40,\n",
      "      \"helix_angle\": 20,\n",
      "      \"pitch_angle\": 0,\n",
      "      \"pressure_angle\": 20\n",
      "   },\n",
      "   \"gear 2\": {\n",
      "      \"gear_type\": \"helix\",\n",
      "      \"source\": \"driven\",\n",
      "      \"coordinate\": {\n",
      "         \"x\": 50,\n",
      "         \"y\": 0,\n",
      "         \"z\": 0,\n",
      "         \"alpha\": 0,\n",
      "         \"beta\": 0,\n",
      "         \"gamma\": 0\n",
      "      },\n",
      "      \"unit\": \"mm\",\n",
      "      \"module\": 2.5,\n",
      "      \"teeth\": 24,\n",
      "      \"height\": 20,\n",
      "      \"pitch_d\": 60,\n",
      "      \"helix_angle\": 20,\n",
      "      \"pitch_angle\": 0,\n",
      "      \"pressure_angle\": 20\n",
      "   }\n",
      "}\n"
     ]
    }
   ],
   "source": [
    "gears_parameters = parsing_response.choices[0].message.content.strip()\n",
    "print(gears_parameters)"
   ]
  },
  {
   "cell_type": "code",
   "execution_count": 26,
   "metadata": {},
   "outputs": [],
   "source": [
    "with open(os.path.join(FILE_DIR, PARAMETERS_FILENAME), \"w\") as f:\n",
    "    f.write(gears_parameters)"
   ]
  },
  {
   "cell_type": "code",
   "execution_count": 27,
   "metadata": {},
   "outputs": [],
   "source": [
    "with open(os.path.join(FILE_DIR, PARAMETERS_FILENAME), \"r\") as f:\n",
    "    parameters = json.load(f)\n",
    "parameters = str(parameters)\n",
    "\n",
    "scripting_description = f\"Write a script according to provided parameters of gears \\n\" + parameters"
   ]
  },
  {
   "cell_type": "code",
   "execution_count": 28,
   "metadata": {},
   "outputs": [],
   "source": [
    "script_messages = [\n",
    "    {\"role\": \"system\", \"content\": scripting_prompt},\n",
    "    {\"role\": \"user\", \"content\": scripting_description}\n",
    "]"
   ]
  },
  {
   "cell_type": "code",
   "execution_count": 29,
   "metadata": {},
   "outputs": [],
   "source": [
    "scripting_response = client.chat.completions.create(\n",
    "    model=config['GPT_MODEL'],\n",
    "    messages=script_messages,\n",
    "    temperature=0\n",
    ")"
   ]
  },
  {
   "cell_type": "code",
   "execution_count": 30,
   "metadata": {},
   "outputs": [],
   "source": [
    "def script_postprocessing(script):\n",
    "    # To remove textual perfix or suffix information in the raw script generated by GPT-4\n",
    "    pattern = re.compile(r'```(?:openscad|scad)(.*?)```', re.DOTALL)\n",
    "    matches = re.findall(pattern, script)\n",
    "    clean_script = \"\"\n",
    "    if len(matches) > 0:\n",
    "        for m in matches:\n",
    "            clean_script = clean_script + m.strip()\n",
    "    else:\n",
    "        clean_script = script\n",
    "    return clean_script"
   ]
  },
  {
   "cell_type": "code",
   "execution_count": 31,
   "metadata": {},
   "outputs": [
    {
     "name": "stdout",
     "output_type": "stream",
     "text": [
      "translate([0,0,0]) rotate([0, 0, 0])\n",
      "gear_helix(m=2.5, z=16, h=15, w=20, w_helix=20);\n",
      "\n",
      "translate([50,0,0]) rotate([0, 0, 360 / (24 * 2)])\n",
      "gear_helix(m=2.5, z=24, h=20, w=20, w_helix=-20);\n"
     ]
    }
   ],
   "source": [
    "script = scripting_response.choices[0].message.content.strip()\n",
    "script = script_postprocessing(script)\n",
    "print(script)"
   ]
  },
  {
   "cell_type": "code",
   "execution_count": 32,
   "metadata": {},
   "outputs": [],
   "source": [
    "with open(os.path.join(FILE_DIR, SCRIPT_FILENAME), \"w\") as f:\n",
    "    f.write(\"include <gears.scad>\")\n",
    "\n",
    "with open(os.path.join(FILE_DIR, SCRIPT_FILENAME), \"a\") as f:\n",
    "    f.write(\"\\n\" + script)"
   ]
  },
  {
   "cell_type": "code",
   "execution_count": 33,
   "metadata": {},
   "outputs": [
    {
     "data": {
      "text/plain": [
       "<Popen: returncode: None args: ['D:\\\\openSCAD\\\\install\\\\openscad.exe', '../c...>"
      ]
     },
     "execution_count": 33,
     "metadata": {},
     "output_type": "execute_result"
    }
   ],
   "source": [
    "subprocess.Popen([OPENSCAD_EXEC, os.path.join(FILE_DIR, SCRIPT_FILENAME)])"
   ]
  },
  {
   "cell_type": "code",
   "execution_count": null,
   "metadata": {},
   "outputs": [],
   "source": []
  }
 ],
 "metadata": {
  "kernelspec": {
   "display_name": "chatbot",
   "language": "python",
   "name": "python3"
  },
  "language_info": {
   "codemirror_mode": {
    "name": "ipython",
    "version": 3
   },
   "file_extension": ".py",
   "mimetype": "text/x-python",
   "name": "python",
   "nbconvert_exporter": "python",
   "pygments_lexer": "ipython3",
   "version": "3.10.13"
  }
 },
 "nbformat": 4,
 "nbformat_minor": 2
}
