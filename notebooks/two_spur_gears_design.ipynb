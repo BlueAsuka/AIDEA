{
 "cells": [
  {
   "cell_type": "code",
   "execution_count": 64,
   "metadata": {},
   "outputs": [],
   "source": [
    "import subprocess\n",
    "import json\n",
    "from openai import OpenAI"
   ]
  },
  {
   "cell_type": "code",
   "execution_count": 3,
   "metadata": {},
   "outputs": [],
   "source": [
    "with open('../config/config.json') as f:\n",
    "     config = json.load(f)\n",
    "\n",
    "client = OpenAI(api_key=config['OPENAI_API_KEY'])"
   ]
  },
  {
   "cell_type": "code",
   "execution_count": 32,
   "metadata": {},
   "outputs": [],
   "source": [
    "design_prompt = f\"\"\"\n",
    "You are an expert in mechanical engineering. \n",
    "You are familar with different mechanical components and system running mechanism. \n",
    "You task is to design and compute a set of parameters based on user's requirement. \n",
    "You final analysis reuslt should be written in markdown syntax for text formalization.\n",
    "Please analyze the process step by step.\n",
    "\"\"\""
   ]
  },
  {
   "cell_type": "code",
   "execution_count": 67,
   "metadata": {},
   "outputs": [],
   "source": [
    "design_description = f\"\"\" \n",
    "Suppose there is a one-stage system with two spur gears,\n",
    "their gear axes are parallel and the distance between two axes is 100mm. \n",
    "Currently, there is a requirements for the reduction system that the desired gear ratio is 3:1, \n",
    "Set the driving gear to the center of the plane, which is the coordinate (0, 0)\n",
    "Based on the given information, computer module number, teeth number of both gears and the coordniate of the driven gear centers.\n",
    "Please give the result in the format given below:\n",
    "\n",
    "EXAMPLE: \n",
    "gear 1 (driving gear): spur gear, module 2.5mm, 20 teeth, pitch diameter 50 mm, coordinates (0,0)\n",
    "gear 2 (driven gear): spur gear, module 2.5mm, 60 teeth, pitch diameter 150 mm, coordinates (100,0)\n",
    "\"\"\""
   ]
  },
  {
   "cell_type": "code",
   "execution_count": 34,
   "metadata": {},
   "outputs": [
    {
     "name": "stdout",
     "output_type": "stream",
     "text": [
      "\n",
      "The gear ratio indicates the relationship between the speeds, torques, and diameters of two gears in mesh\n",
      "For a gear ratio of 3:1, the driven gear must have three times as many teeth as the driving gear, or the driving gear must have three times as small a diameter compared to the driven gear.\n",
      "\n",
      "Here's how we can compute the parameters for the gears:\n",
      "\n",
      "1\n",
      "**Choose a standard module size**: The module of a gear is a measure of the gear tooth size which is equal to the pitch diameter divided by the number of teeth\n",
      "The module (m) must be chosen such that the gears will have a whole number of teeth\n",
      "The module size will also depend on factors like the power transmission requirements and space constraints\n",
      "For simplicity, we can start with an arbitrary module size and adjust later if needed.\n",
      "\n",
      "2\n",
      "**Calculate teeth number for both gears**: Given the 3:1 gear ratio, if we assign the driving gear (smaller gear) Z1 teeth, the driven gear (larger gear) will have Z2 = 3 * Z1 teeth.\n",
      "\n",
      "3\n",
      "**Pitch diameters of both gears**: The pitch diameter (d) can be found using the formula d = m * Z, where Z is the number of teeth and m is the module.\n",
      "\n",
      "   - For the driving gear:\n",
      "     $$d1 = m * Z1$$\n",
      "\n",
      "   - For the driven gear:\n",
      "     $$d2 = m * Z2 = m * (3 * Z1) = 3 * d1$$\n",
      "\n",
      "4\n",
      "**Center distance between gears**: The sum of the radii of the gears must equal the center distance\n",
      "Using the pitch diameters, this can be expressed as:\n",
      "\n",
      "   $$d1 / 2 + d2 / 2 = Center Distance$$\n",
      "\n",
      "   $$m * Z1 / 2 + m * 3 * Z1 / 2 = 100 mm$$\n",
      "\n",
      "   $$m * Z1 * 2 = 100 mm$$\n",
      "\n",
      "   $$m * Z1 = 100 mm$$\n",
      "\n",
      "5\n",
      "**Choosing Teeth Numbers**: Let's choose a small number of teeth for the driving gear Z1 to ensure the gears aren't too large\n",
      "Common industrial practice allows for a pinion (smaller gear) to have as few as 18 teeth to avoid undercutting and excessive wear.\n",
      "\n",
      "   Assuming Z1 = 18 (for the driving gear), and m * Z1 = 100 mm, we get:\n",
      "\n",
      "   $$m = 100 mm / Z1$$\n",
      "   $$m = 100 mm / 18$$\n",
      "   $$m ≈ 5\n",
      "56 mm$$\n",
      "\n",
      "   As modules are typically standard sizes, we should choose a standard value that's close to our calculated one to ensure ready availability of gears\n",
      "The neighboring standard module sizes are 5 and 6 mm\n",
      "Let's choose m = 5 mm, which is slightly smaller than the computed value, to ensure our gears fit within the space constraints.\n",
      "\n",
      "   Therefore, Z1 = 18 teeth and Z2 = 3 * Z1 = 54 teeth.\n",
      "\n",
      "6\n",
      "**Coordinates of the driven gear**: With the driving gear at the center (0,0), the driven gear will be located at a distance equal to the center distance\n",
      "Since we changed the module to 5 mm, the actual center distance for standard module m = 5 mm would be:\n",
      "\n",
      "   $$Center Distance = (m * Z1 / 2) + (m * Z2 / 2)$$\n",
      "   $$Center Distance = (5 mm * 18 / 2) + (5 mm * 54 / 2)$$\n",
      "   $$Center Distance = (45 mm) + (135 mm)$$\n",
      "   $$Center Distance = 180 mm$$\n",
      "\n",
      "   This is significantly larger than the initial 100 mm requirement\n",
      "To meet the 100 mm requirement, a smaller module should be chosen or a smaller number of teeth for the driving gear, which would proportionally reduce the teeth on the driven gear and result in a smaller center distance.\n",
      "\n",
      "   For a 100 mm center distance with a 3:1 gear ratio, we must go back and choose a small enough module to maintain proper sizing\n",
      "Let's try with Z1 = 18 and a 100 mm center distance while maintaining the 3:1 ratio:\n",
      "\n",
      "   - Gear 1: m * Z1 / 2 = 100 mm / 4 = 25 mm\n",
      "   \n",
      "   - Gear 2: (m * 3 * Z1) / 2 = 75 mm\n",
      "   \n",
      "   From Gear 1, we find that m * Z1 = 50 mm\n",
      "   \n",
      "   Plugging in Z1 = 18, we get m = 50 mm / 18 ≈ 2\n",
      "78 mm\n",
      "   \n",
      "   We could round this to a standard module size\n",
      "The choice could be m = 2\n",
      "5 mm or m = 3 mm, depending on other design considerations\n",
      "If we select m = 2\n",
      "5 mm:\n",
      "\n",
      "   Z1 = 18 teeth\n",
      "   Z2 = 54 teeth\n",
      "   \n",
      "   - Gear 1: m * Z1 = 2\n",
      "5 mm * 18 = 45 mm\n",
      "   - Gear 2: 3 * m * Z1 = 3 * 45 mm = 135 mm\n",
      "   \n",
      "   The actual center distance will be:\n",
      "   \n",
      "   $$ (45 mm / 2) + (135 mm / 2) = 90 mm $$\n",
      "   \n",
      "   This still isn't 100 mm, which means we must further adjust our variables\n",
      "Since the desired center distance is very specific and directly impacts gear size, we might need to choose a non-standard module or alter the tooth count again, ensuring we retain an integer number of teeth for each gear and maintain the 3:1 ratio.\n",
      "\n",
      "   For a precise match to the required 100 mm center distance, let's adjust Z1:\n",
      "   \n",
      "   Center Distance = m * (Z1 + 3 * Z1) / 2 = 100 mm\n",
      "                   = m * (4 * Z1) / 2\n",
      "                   = 2m * Z1 = 100 mm\n",
      "                    Z1 = 100 mm / (2 * m)\n",
      "   \n",
      "   Assuming m = 2\n",
      "5 mm (we can adjust it depending on what standard gears are available):\n",
      "   \n",
      "   Z1 = 100 mm / (2 * 2\n",
      "5 mm) = 20\n",
      "   Therefore, Z1 could be set to 20 (assuming that it meets other design criteria such as strength and space constraints), and Z2 would then be 60.\n",
      "\n",
      "   With these values:\n",
      "   \n",
      "   - Gear 1 pitch diameter: m * Z1 = 2\n",
      "5 mm * 20 = 50 mm\n",
      "   - Gear 2 pitch diameter: m * Z2 = 2\n",
      "5 mm * 60 = 150 mm\n",
      "   - Center distance: (50 mm / 2) + (150 mm / 2) = 100 mm\n",
      "   \n",
      "   Finally, the coordinates of the center of the driven gear (Gear 2) relative to the driving gear (Gear 1) with (0,0) will be (100, 0) mm along the axis of gear rotation.\n",
      "\n",
      "In our final configuration for a 3:1 ratio and a 100 mm center distance:\n",
      "\n",
      "- Module (m): 2\n",
      "5 mm\n",
      "- Driving gear (Gear 1): 20 teeth, pitch diameter 50 mm, coordinates (0,0)\n",
      "- Driven gear (Gear 2): 60 teeth, pitch diameter 150 mm, coordinates (100,0)\n",
      "\n",
      "Please note that the actual design of a gear train would consider additional factors such as the torque handling capability, material strength, geometrical constraints, and manufacturing standards\n",
      "It is often necessary to iterate on the design parameters to fulfill all the system's requirements\n"
     ]
    }
   ],
   "source": [
    "messages=[\n",
    "        {\"role\": \"system\", \"content\": design_prompt},\n",
    "        {\"role\": \"user\", \"content\": design_description},\n",
    "    ]\n",
    "stop_tokens = ['']\n",
    "collected_tokens = []\n",
    "\n",
    "res = client.chat.completions.create(\n",
    "    model=config['GPT_MODEL'],\n",
    "    messages=messages,\n",
    "    stream=True,\n",
    ")\n",
    "\n",
    "for chunk in res:\n",
    "    temp_tokens = chunk.choices[0].delta.content\n",
    "    if temp_tokens not in stop_tokens:\n",
    "        collected_tokens.append(temp_tokens)\n",
    "    else:\n",
    "        chunk_res = \"\".join(collected_tokens).strip()\n",
    "        print(chunk_res)\n",
    "        collected_tokens = []"
   ]
  },
  {
   "cell_type": "code",
   "execution_count": 17,
   "metadata": {},
   "outputs": [],
   "source": [
    "parsing_prompt = f\"\"\"\n",
    "You are an expert in commanding and instructions construction in JSON files. \n",
    "You receive a textural description of a set of parameters for external spur gear system designing.\n",
    "You should analysis and detect parameters writen in the textual description accurately.\n",
    "You are required to parse a json file in the provided format based on the description for formalization.\n",
    "You can fill the provided json format by replacing '' in each item with parameters in the given description.\n",
    "For all coordinate parameters in the json file should be represented in numerical value, not in string format.\n",
    "For rotation parameters in coordinate: alpha, bete, and gamma are all set to 0 in default \n",
    "\"\"\"\n",
    "\n",
    "parsing_format = {\n",
    "    \"gear 1\":{\n",
    "        \"gear_type\": '',\n",
    "        \"coordinate\": {\"x\": '', \"y\": '', \"z\": '', 'alpha': '', 'beta': '', 'gamma': ''},\n",
    "        \"unit\": '',\n",
    "        \"module\": '',\n",
    "        \"teeth\": '',\n",
    "        \"pitch_d\": ''\n",
    "    },\n",
    "    \"gear 2\": {\n",
    "        \"gear_type\": '',\n",
    "        \"coordinate\": {\"x\": '', \"y\": '', \"z\": '', 'alpha': '', 'beta': '', 'gamma': ''},\n",
    "        \"unit\": '',\n",
    "        \"module\": '',\n",
    "        \"teeth\": '',\n",
    "        \"pitch_d\": ''\n",
    "    }\n",
    "}\n",
    "\n",
    "parsing_prompt = parsing_prompt + str(parsing_format)"
   ]
  },
  {
   "cell_type": "code",
   "execution_count": 30,
   "metadata": {},
   "outputs": [],
   "source": [
    "parsing_description = f\"\"\"\n",
    "gear 1 (driving gear): spur gear, module 2.5mm, 20 teeth, pitch diameter 50 mm, coordinates (0,0)\n",
    "gear 2 (driven gear): spur gear, module 2.5mm, 60 teeth, pitch diameter 150 mm, coordinates (100,0)\n",
    "\"\"\"\n",
    "                    \n",
    "parsing_messages = [\n",
    "    {\"role\": \"system\", \"content\": parsing_prompt},\n",
    "    {\"role\": \"user\", \"content\": parsing_description},\n",
    "]"
   ]
  },
  {
   "cell_type": "code",
   "execution_count": 19,
   "metadata": {},
   "outputs": [],
   "source": [
    "parsing_response = client.chat.completions.create(\n",
    "    model=config['GPT_MODEL'],\n",
    "    response_format={ \"type\": \"json_object\" },\n",
    "    messages=parsing_messages,\n",
    ")"
   ]
  },
  {
   "cell_type": "code",
   "execution_count": 20,
   "metadata": {},
   "outputs": [
    {
     "name": "stdout",
     "output_type": "stream",
     "text": [
      "{\n",
      "    \"gear 1\": {\n",
      "        \"gear_type\": \"spur\",\n",
      "        \"coordinate\": {\n",
      "            \"x\": 0,\n",
      "            \"y\": 0,\n",
      "            \"z\": 0,\n",
      "            \"alpha\": 0,\n",
      "            \"beta\": 0,\n",
      "            \"gamma\": 0\n",
      "        },\n",
      "        \"unit\": \"mm\",\n",
      "        \"module\": 2.5,\n",
      "        \"teeth\": 20,\n",
      "        \"pitch_d\": 50\n",
      "    },\n",
      "    \"gear 2\": {\n",
      "        \"gear_type\": \"spur\",\n",
      "        \"coordinate\": {\n",
      "            \"x\": 100,\n",
      "            \"y\": 0,\n",
      "            \"z\": 0,\n",
      "            \"alpha\": 0,\n",
      "            \"beta\": 0,\n",
      "            \"gamma\": 0\n",
      "        },\n",
      "        \"unit\": \"mm\",\n",
      "        \"module\": 2.5,\n",
      "        \"teeth\": 60,\n",
      "        \"pitch_d\": 150\n",
      "    }\n",
      "}\n"
     ]
    }
   ],
   "source": [
    "gears_parameters = parsing_response.choices[0].message.content.strip()\n",
    "print(gears_parameters)"
   ]
  },
  {
   "cell_type": "code",
   "execution_count": 21,
   "metadata": {},
   "outputs": [],
   "source": [
    "with open(\"../common/spur_gear/gears_parameters.json\", \"w\") as f:\n",
    "    f.write(gears_parameters)"
   ]
  },
  {
   "cell_type": "code",
   "execution_count": 53,
   "metadata": {},
   "outputs": [],
   "source": [
    "scripting_introdcution = f\"\"\"\n",
    "You are an expert in 3D modeling with Computer-aided design package.\n",
    "You are currently required to used OpenSCAD package to build the model based on a given design parameters in Json format.\n",
    "You need to write a model script in OpenSCAD to parametrically build the 3D geometry with parameters in the given json file. \n",
    "You should analyze each item in the Json file carefully to extract all parameters including:\"\"\"\n",
    "\n",
    "json_format = {\n",
    "    \"gear 1\": {\n",
    "        \"gear_type\": \"spur\",\n",
    "        \"coordinate\": {\"x\": 0, \"y\": 0, \"z\": 0, \"alpha\": 0, \"beta\": 0, \"gamma\": 0},\n",
    "        \"unit\": \"mm\",\n",
    "        \"module\": 2.5,\n",
    "        \"teeth\": 20,\n",
    "        \"pitch_d\": 50\n",
    "    },\n",
    "}\n",
    "\n",
    "scripting_details = f\"\"\"\n",
    "REMEMBER to follow all mentioned formats strictlly.\n",
    "\n",
    "Firstly, you have to move the gear into a correct position based on the parameters via a sequence of functions in the format:\n",
    "translate([x, y, z]) rotate([alpha, beta gamma])\n",
    "\n",
    "Then based on these information, you should first choose correct function based on the value in \"gear type\":\n",
    "spur gear => gear();  \n",
    "helix gear => gear_helix(); \n",
    "herringbone gear => gear_herringbone(); \n",
    "bevel gear => gear_bevel(); \n",
    "\n",
    "After that, you have to put the \"module\" and \"teeth\" to the choosen function in the format:\n",
    "func(m = modulus, z = teeth, x = 0, w = 20, h = 4)\n",
    "\n",
    "Thus you can get a final reuslt for one item in the script:\n",
    "translate([x, y, z]) rotate([alpha, beta gamma]) func(m = modulus, z = teeth, x = 0, w = 20, h = 4);\n",
    "\n",
    "Keep doing this until you finish all items in the Json file without other textual description. \n",
    "NO other natural language description or symbols are needed.\n",
    "\"\"\"\n",
    "\n",
    "scripting_prompt = scripting_introdcution + str(json_format) + scripting_details"
   ]
  },
  {
   "cell_type": "code",
   "execution_count": 54,
   "metadata": {},
   "outputs": [],
   "source": [
    "with open(\"../common/spur_gear/gears_parameter.json\", \"r\") as f:\n",
    "    parameters = json.load(f)\n",
    "parameters = str(parameters)\n",
    "\n",
    "scripting_description = f\"Write a script according to provided procedure with parameters of gears\" + parameters"
   ]
  },
  {
   "cell_type": "code",
   "execution_count": 55,
   "metadata": {},
   "outputs": [],
   "source": [
    "script_messages = [\n",
    "    {\"role\": \"system\", \"content\": scripting_prompt},\n",
    "    {\"role\": \"user\", \"content\": scripting_description}\n",
    "]"
   ]
  },
  {
   "cell_type": "code",
   "execution_count": 56,
   "metadata": {},
   "outputs": [],
   "source": [
    "scripting_response = client.chat.completions.create(\n",
    "    model=config['GPT_MODEL'],\n",
    "    messages=script_messages,\n",
    ")"
   ]
  },
  {
   "cell_type": "code",
   "execution_count": 57,
   "metadata": {},
   "outputs": [
    {
     "name": "stdout",
     "output_type": "stream",
     "text": [
      "translate([0, 0, 0]) rotate([0, 0, 0]) gear(m = 2.5, z = 20);\n",
      "translate([100, 0, 0]) rotate([0, 0, 0]) gear(m = 2.5, z = 60);\n"
     ]
    }
   ],
   "source": [
    "script = scripting_response.choices[0].message.content.strip()\n",
    "print(script)"
   ]
  },
  {
   "cell_type": "code",
   "execution_count": 60,
   "metadata": {},
   "outputs": [],
   "source": [
    "with open(\"../common/spur_gear/gears_script.scad\", \"w\") as f:\n",
    "    f.write(\"include <gears.scad>\\n\")\n",
    "\n",
    "with open(\"../common/spur_gear/gears_script.scad\", \"a\") as f:\n",
    "    f.write(\"\\n\" + script)"
   ]
  },
  {
   "cell_type": "code",
   "execution_count": 66,
   "metadata": {},
   "outputs": [
    {
     "data": {
      "text/plain": [
       "<Popen: returncode: None args: ['D:\\\\openSCAD\\\\install\\\\openscad.exe', '../c...>"
      ]
     },
     "execution_count": 66,
     "metadata": {},
     "output_type": "execute_result"
    }
   ],
   "source": [
    "subprocess.Popen([\"D:\\openSCAD\\install\\openscad.exe\",\n",
    "                 \"../common/spur_gear/gears_script.scad\"])"
   ]
  },
  {
   "cell_type": "code",
   "execution_count": null,
   "metadata": {},
   "outputs": [],
   "source": []
  }
 ],
 "metadata": {
  "kernelspec": {
   "display_name": "chatbot",
   "language": "python",
   "name": "python3"
  },
  "language_info": {
   "codemirror_mode": {
    "name": "ipython",
    "version": 3
   },
   "file_extension": ".py",
   "mimetype": "text/x-python",
   "name": "python",
   "nbconvert_exporter": "python",
   "pygments_lexer": "ipython3",
   "version": "3.10.13"
  }
 },
 "nbformat": 4,
 "nbformat_minor": 2
}
