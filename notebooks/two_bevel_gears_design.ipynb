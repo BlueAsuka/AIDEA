{
 "cells": [
  {
   "cell_type": "code",
   "execution_count": 1,
   "metadata": {},
   "outputs": [],
   "source": [
    "import os\n",
    "import re\n",
    "import json\n",
    "import subprocess\n",
    "\n",
    "from openai import OpenAI\n",
    "import sys\n",
    "sys.path.append('../')\n",
    "from prompts.design_prompt import design_prompt\n",
    "from prompts.parsing_prompt import parsing_prompt\n",
    "from prompts.scripting_prompt import scripting_prompt"
   ]
  },
  {
   "cell_type": "code",
   "execution_count": 2,
   "metadata": {},
   "outputs": [],
   "source": [
    "with open('../config/config.json') as f:\n",
    "     config = json.load(f)"
   ]
  },
  {
   "cell_type": "code",
   "execution_count": 3,
   "metadata": {},
   "outputs": [],
   "source": [
    "OPENSCAD_EXEC = config[\"OPENSCAD_EXEC_PATH\"]\n",
    "FILE_DIR = \"../common/bevel\"\n",
    "DESIGN_FILENAME = \"gears_design.md\"\n",
    "PARAMETERS_FILENAME = \"gear_parameters.json\"\n",
    "SCRIPT_FILENAME = \"gears_script.scad\"\n",
    "if not os.path.exists(FILE_DIR):\n",
    "    os.makedirs(FILE_DIR)"
   ]
  },
  {
   "cell_type": "code",
   "execution_count": 4,
   "metadata": {},
   "outputs": [],
   "source": [
    "client = OpenAI(api_key=config['OPENAI_API_KEY'])"
   ]
  },
  {
   "cell_type": "code",
   "execution_count": 15,
   "metadata": {},
   "outputs": [],
   "source": [
    "design_description = f\"\"\" \n",
    "Suppose there is a one-stage system with two bevel gears and the desired gear ratio of the reduction system is 2:1.\n",
    "The height of both gears are 20mm, and the pressure angles are both 20 degrees.\n",
    "The driving gear's pitch angle and helix angle are 45 and 0 degrees located in the spatial coordinate (0, 0, 0).\n",
    "Based on the given information, computer module number, teeth number of both gears, pitch angle and the coordniate of the driven gear centers in sptial coordinate.\n",
    "\"\"\""
   ]
  },
  {
   "cell_type": "code",
   "execution_count": 16,
   "metadata": {},
   "outputs": [],
   "source": [
    "design_messages=[\n",
    "        {\"role\": \"system\", \"content\": design_prompt},\n",
    "        {\"role\": \"user\", \"content\": design_description},\n",
    "    ]"
   ]
  },
  {
   "cell_type": "code",
   "execution_count": 21,
   "metadata": {},
   "outputs": [],
   "source": [
    "# stop_tokens = ['']\n",
    "# collected_tokens = []\n",
    "\n",
    "# res = client.chat.completions.create(\n",
    "#     model=config['GPT_MODEL'],\n",
    "#     messages=design_messages,\n",
    "#     stream=True,\n",
    "# )\n",
    "\n",
    "# for chunk in res:\n",
    "#     temp_tokens = chunk.choices[0].delta.content\n",
    "#     if temp_tokens not in stop_tokens:\n",
    "#         collected_tokens.append(temp_tokens)\n",
    "#     else:\n",
    "#         chunk_res = \"\".join(collected_tokens).strip()\n",
    "#         print(chunk_res)\n",
    "#         collected_tokens = []\n",
    "\n",
    "res = client.chat.completions.create(\n",
    "    model=config['GPT_MODEL'],\n",
    "    messages=design_messages,\n",
    "    temperature=0\n",
    ")"
   ]
  },
  {
   "cell_type": "code",
   "execution_count": 22,
   "metadata": {},
   "outputs": [
    {
     "name": "stdout",
     "output_type": "stream",
     "text": [
      "To design a one-stage bevel gear system with a gear ratio of 2:1, we need to determine the module, number of teeth for both gears, pitch angles, and the spatial coordinates of the driven gear center.\n",
      "\n",
      "### Step 1: Gear Ratio and Teeth Number\n",
      "Given the desired gear ratio (GR) of 2:1, we can express this as:\n",
      "$$ GR = \\frac{N_2}{N_1} = 2 $$\n",
      "\n",
      "Where:\n",
      "- \\( N_1 \\) = Number of teeth on the driving gear\n",
      "- \\( N_2 \\) = Number of teeth on the driven gear\n",
      "\n",
      "Since the gear ratio is 2:1, we can choose a convenient number of teeth for the driving gear (\\( N_1 \\)) and calculate \\( N_2 \\) accordingly. Let's assume \\( N_1 \\) to be 20 (a common standard number for gear teeth), then \\( N_2 \\) would be:\n",
      "$$ N_2 = GR \\times N_1 = 2 \\times 20 = 40 $$\n",
      "\n",
      "### Step 2: Module Calculation\n",
      "The module (m) is a measure of the size of the teeth and is related to the pitch diameter (D) and the number of teeth (N) by the formula:\n",
      "$$ m = \\frac{D}{N} $$\n",
      "\n",
      "However, we do not have the pitch diameters yet. The module is typically chosen based on standard sizes and the space available in the application. For this example, let's choose a module that will give us reasonable pitch diameters for both gears. We can start with a module of 2 mm and adjust if necessary.\n",
      "\n",
      "### Step 3: Pitch Diameter\n",
      "With the module and number of teeth, we can calculate the pitch diameters for both gears:\n",
      "$$ D_1 = m \\times N_1 = 2 \\times 20 = 40 \\text{ mm} $$\n",
      "$$ D_2 = m \\times N_2 = 2 \\times 40 = 80 \\text{ mm} $$\n",
      "\n",
      "### Step 4: Pitch Angles\n",
      "The pitch angle (\\( \\beta \\)) for bevel gears is related to the gear ratio and is defined as the angle between the gear axis and the element of the pitch cone (the cone that defines the pitch surface of the gear). For the driving gear, the pitch angle is given as 45 degrees. The pitch angle for the driven gear can be calculated using the gear ratio and the fact that the sum of the pitch angles of both gears should be 90 degrees (since they are bevel gears and meet at an angle):\n",
      "$$ \\beta_1 + \\beta_2 = 90^\\circ $$\n",
      "$$ \\beta_2 = 90^\\circ - \\beta_1 = 90^\\circ - 45^\\circ = 45^\\circ $$\n",
      "\n",
      "### Step 5: Helix Angle\n",
      "The helix angle (\\( \\psi \\)) for the driving gear is given as 0 degrees. Since these are bevel gears and not helical bevel gears, the helix angle for both gears will be 0 degrees.\n",
      "\n",
      "### Step 6: Gear Coordinates\n",
      "The driving gear is located at the spatial coordinate (0, 0, 0). The driven gear will be positioned such that its center is on the pitch diameter of the driving gear and at the correct angle. Since the gears meet at their pitch diameters and the pitch angle is 45 degrees, the driven gear's center will be along the line that is at 45 degrees to the axis of the driving gear. The distance from the origin will be half the pitch diameter of the driven gear (since the pitch diameters meet at a point), which is \\( \\frac{D_2}{2} = \\frac{80}{2} = 40 \\) mm.\n",
      "\n",
      "The coordinates of the driven gear center in spatial coordinates can be calculated using trigonometry, considering the pitch angle of 45 degrees. However, since the pitch angle is 45 degrees, the x and y coordinates will be equal. Therefore, the coordinates of the driven gear center will be (40, 0, 40).\n",
      "\n",
      "### Final Result\n",
      "After reviewing the parameters, we have:\n",
      "\n",
      "gear 1 (driving gear): bevel gear, module 2mm, teeth 20, pitch diameter 40mm, pitch angle 45 degrees, helix angle 0 degrees, height 20mm, coordinate (0, 0, 0)  \n",
      "gear 2 (driven gear): bevel gear, module 2mm, teeth 40, pitch diameter 80mm, pitch angle 45 degrees, helix angle 0 degrees, height 20mm, coordinate (40, 0, 40)\n",
      "\n",
      "These parameters satisfy the user's requirements for a gear ratio of 2:1, equal pitch angles of 45 degrees, and the specified heights and pressure angles.\n"
     ]
    }
   ],
   "source": [
    "print(res.choices[0].message.content)"
   ]
  },
  {
   "cell_type": "code",
   "execution_count": 23,
   "metadata": {},
   "outputs": [],
   "source": [
    "with open(os.path.join(FILE_DIR, DESIGN_FILENAME), \"w\") as f:\n",
    "    f.write(res.choices[0].message.content)"
   ]
  },
  {
   "cell_type": "code",
   "execution_count": 6,
   "metadata": {},
   "outputs": [],
   "source": [
    "parsing_description = \\\n",
    "f\"gear 1 (driving gear): bevel gear, module 2mm, teeth 20, pitch diameter 40mm, pitch angle 45 degrees, helix angle 0 degrees, height 20mm, coordinate (0, 0, 0) \" + \\\n",
    "f\"pressure angle 20 degrees \\n\" + \\\n",
    "f\"gear 2 (driven gear): bevel gear, module 2mm, teeth 40, pitch diameter 80mm, pitch angle 45 degrees, helix angle 0 degrees, height 20mm, coordinate (40, 0, 40)\" + \\\n",
    "f\"pressure angle 20 degrees\""
   ]
  },
  {
   "cell_type": "code",
   "execution_count": 7,
   "metadata": {},
   "outputs": [],
   "source": [
    "parsing_messages = [\n",
    "    {\"role\": \"system\", \"content\": parsing_prompt},\n",
    "    {\"role\": \"user\", \"content\": parsing_description},\n",
    "]"
   ]
  },
  {
   "cell_type": "code",
   "execution_count": 8,
   "metadata": {},
   "outputs": [],
   "source": [
    "parsing_response = client.chat.completions.create(\n",
    "    model=config['GPT_MODEL'],\n",
    "    response_format={ \"type\": \"json_object\" },\n",
    "    messages=parsing_messages,\n",
    ")"
   ]
  },
  {
   "cell_type": "code",
   "execution_count": 9,
   "metadata": {},
   "outputs": [
    {
     "name": "stdout",
     "output_type": "stream",
     "text": [
      "{\n",
      "  \"gear 1\": {\n",
      "    \"gear_type\": \"bevel\",\n",
      "    \"source\": \"driving\",\n",
      "    \"coordinate\": {\n",
      "      \"x\": 0,\n",
      "      \"y\": 0,\n",
      "      \"z\": 0,\n",
      "      \"alpha\": 0,\n",
      "      \"beta\": 0,\n",
      "      \"gamma\": 0\n",
      "    },\n",
      "    \"unit\": \"mm\",\n",
      "    \"module\": 2,\n",
      "    \"teeth\": 20,\n",
      "    \"height\": 20,\n",
      "    \"pitch_d\": 40,\n",
      "    \"helix_angle\": 0,\n",
      "    \"pitch_angle\": 45,\n",
      "    \"pressure_angle\": 20\n",
      "  },\n",
      "  \"gear 2\": {\n",
      "    \"gear_type\": \"bevel\",\n",
      "    \"source\": \"driven\",\n",
      "    \"coordinate\": {\n",
      "      \"x\": 40,\n",
      "      \"y\": 0,\n",
      "      \"z\": 40,\n",
      "      \"alpha\": 0,\n",
      "      \"beta\": 0,\n",
      "      \"gamma\": 0\n",
      "    },\n",
      "    \"unit\": \"mm\",\n",
      "    \"module\": 2,\n",
      "    \"teeth\": 40,\n",
      "    \"height\": 20,\n",
      "    \"pitch_d\": 80,\n",
      "    \"helix_angle\": 0,\n",
      "    \"pitch_angle\": 45,\n",
      "    \"pressure_angle\": 20\n",
      "  }\n",
      "}\n"
     ]
    }
   ],
   "source": [
    "gears_parameters = parsing_response.choices[0].message.content.strip()\n",
    "print(gears_parameters)"
   ]
  },
  {
   "cell_type": "code",
   "execution_count": 10,
   "metadata": {},
   "outputs": [],
   "source": [
    "with open(os.path.join(FILE_DIR, PARAMETERS_FILENAME), \"w\") as f:\n",
    "    f.write(gears_parameters)"
   ]
  },
  {
   "cell_type": "code",
   "execution_count": 11,
   "metadata": {},
   "outputs": [],
   "source": [
    "with open(os.path.join(FILE_DIR, PARAMETERS_FILENAME), \"r\") as f:\n",
    "    parameters = json.load(f)\n",
    "parameters = str(parameters)\n",
    "\n",
    "scripting_description = f\"Write a script according to provided parameters of gears \\n\" + parameters"
   ]
  },
  {
   "cell_type": "code",
   "execution_count": 12,
   "metadata": {},
   "outputs": [],
   "source": [
    "script_messages = [\n",
    "    {\"role\": \"system\", \"content\": scripting_prompt},\n",
    "    {\"role\": \"user\", \"content\": scripting_description}\n",
    "]"
   ]
  },
  {
   "cell_type": "code",
   "execution_count": 14,
   "metadata": {},
   "outputs": [],
   "source": [
    "scripting_response = client.chat.completions.create(\n",
    "    model=config['GPT_MODEL'],\n",
    "    messages=script_messages,\n",
    "    # temperature=0\n",
    ")"
   ]
  },
  {
   "cell_type": "code",
   "execution_count": 15,
   "metadata": {},
   "outputs": [],
   "source": [
    "def script_postprocessing(script):\n",
    "    # To remove textual perfix or suffix information in the raw script generated by GPT-4\n",
    "    pattern = re.compile(r'```(?:openscad|scad)(.*?)```', re.DOTALL)\n",
    "    matches = re.findall(pattern, script)\n",
    "    clean_script = \"\"\n",
    "    if len(matches) > 0:\n",
    "        for m in matches:\n",
    "            clean_script = clean_script + m.strip()\n",
    "    else:\n",
    "        clean_script = script\n",
    "    return clean_script"
   ]
  },
  {
   "cell_type": "code",
   "execution_count": 16,
   "metadata": {},
   "outputs": [
    {
     "name": "stdout",
     "output_type": "stream",
     "text": [
      "translate([0,0,0]) rotate([0, 0, 0])\n",
      "gear_bevel(m=2, z=20, h=20, w=20, w_helix=0, w_bevel=45);\n",
      "\n",
      "translate([40,0,40]) rotate([0, -90, 0])\n",
      "gear_bevel(m=2, z=40, h=20, w=20, w_helix=0, w_bevel=45);\n"
     ]
    }
   ],
   "source": [
    "script = scripting_response.choices[0].message.content.strip()\n",
    "script = script_postprocessing(script)\n",
    "print(script)"
   ]
  },
  {
   "cell_type": "code",
   "execution_count": 19,
   "metadata": {},
   "outputs": [],
   "source": [
    "with open(os.path.join(FILE_DIR, SCRIPT_FILENAME), \"w\") as f:\n",
    "    f.write(\"include <gears.scad>\")\n",
    "\n",
    "with open(os.path.join(FILE_DIR, SCRIPT_FILENAME), \"a\") as f:\n",
    "    f.write(\"\\n\" + script)\n",
    "    \n",
    "# The result is not ideal"
   ]
  },
  {
   "cell_type": "code",
   "execution_count": 5,
   "metadata": {},
   "outputs": [
    {
     "data": {
      "text/plain": [
       "<Popen: returncode: None args: ['D:\\\\openSCAD\\\\install\\\\openscad.exe', '../c...>"
      ]
     },
     "execution_count": 5,
     "metadata": {},
     "output_type": "execute_result"
    }
   ],
   "source": [
    "subprocess.Popen([OPENSCAD_EXEC, os.path.join(FILE_DIR, SCRIPT_FILENAME)])"
   ]
  },
  {
   "cell_type": "code",
   "execution_count": null,
   "metadata": {},
   "outputs": [],
   "source": []
  }
 ],
 "metadata": {
  "kernelspec": {
   "display_name": "chatbot",
   "language": "python",
   "name": "python3"
  },
  "language_info": {
   "codemirror_mode": {
    "name": "ipython",
    "version": 3
   },
   "file_extension": ".py",
   "mimetype": "text/x-python",
   "name": "python",
   "nbconvert_exporter": "python",
   "pygments_lexer": "ipython3",
   "version": "3.10.13"
  }
 },
 "nbformat": 4,
 "nbformat_minor": 2
}
