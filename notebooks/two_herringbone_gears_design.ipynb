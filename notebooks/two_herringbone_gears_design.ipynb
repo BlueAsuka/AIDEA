{
 "cells": [
  {
   "cell_type": "code",
   "execution_count": 9,
   "metadata": {},
   "outputs": [],
   "source": [
    "import os\n",
    "import re\n",
    "import json\n",
    "import subprocess\n",
    "\n",
    "from openai import OpenAI\n",
    "import sys\n",
    "sys.path.append('../')\n",
    "from prompts.design_prompt import design_prompt\n",
    "from prompts.parsing_prompt import parsing_prompt\n",
    "from prompts.scripting_prompt import scripting_prompt"
   ]
  },
  {
   "cell_type": "code",
   "execution_count": 10,
   "metadata": {},
   "outputs": [],
   "source": [
    "with open('../config/config.json') as f:\n",
    "     config = json.load(f)"
   ]
  },
  {
   "cell_type": "code",
   "execution_count": 11,
   "metadata": {},
   "outputs": [],
   "source": [
    "OPENSCAD_EXEC = config[\"OPENSCAD_EXEC_PATH\"]\n",
    "FILE_DIR = \"../common/herringbon\"\n",
    "DESIGN_FILENAME = \"gears_design.md\"\n",
    "PARAMETERS_FILENAME = \"gear_parameters.json\"\n",
    "SCRIPT_FILENAME = \"gears_script.scad\"\n",
    "if not os.path.exists(FILE_DIR):\n",
    "    os.makedirs(FILE_DIR)"
   ]
  },
  {
   "cell_type": "code",
   "execution_count": 12,
   "metadata": {},
   "outputs": [],
   "source": [
    "client = OpenAI(api_key=config['OPENAI_API_KEY'])"
   ]
  },
  {
   "cell_type": "code",
   "execution_count": 13,
   "metadata": {},
   "outputs": [],
   "source": [
    "design_description = f\"\"\" \n",
    "Suppose there is a one-stage system with two herringbone gears with a 20 degree helix angle.\n",
    "The height of both gears are 25mm and 16mm respectively, and the pressure angle are both 20 degree.\n",
    "Currently, there is a requirements for the reduction system that the desired gear ratio is 2:1.\n",
    "Set the driving gear to the center of the plane, which is the coordinate (0, 0).\n",
    "Based on the given information, computer module number, teeth number of both gears and the coordniate of the driven gear centers.\n",
    "\"\"\""
   ]
  },
  {
   "cell_type": "code",
   "execution_count": 14,
   "metadata": {},
   "outputs": [],
   "source": [
    "design_messages=[\n",
    "        {\"role\": \"system\", \"content\": design_prompt},\n",
    "        {\"role\": \"user\", \"content\": design_description},\n",
    "    ]"
   ]
  },
  {
   "cell_type": "code",
   "execution_count": 15,
   "metadata": {},
   "outputs": [],
   "source": [
    "# stop_tokens = ['']\n",
    "# collected_tokens = []\n",
    "\n",
    "# res = client.chat.completions.create(\n",
    "#     model=config['GPT_MODEL'],\n",
    "#     messages=design_messages,\n",
    "#     stream=True,\n",
    "# )\n",
    "\n",
    "# for chunk in res:\n",
    "#     temp_tokens = chunk.choices[0].delta.content\n",
    "#     if temp_tokens not in stop_tokens:\n",
    "#         collected_tokens.append(temp_tokens)\n",
    "#     else:\n",
    "#         chunk_res = \"\".join(collected_tokens).strip()\n",
    "#         print(chunk_res)\n",
    "#         collected_tokens = []\n",
    "\n",
    "res = client.chat.completions.create(\n",
    "    model=config['GPT_MODEL'],\n",
    "    messages=design_messages,\n",
    "    temperature=0\n",
    ")"
   ]
  },
  {
   "cell_type": "code",
   "execution_count": 16,
   "metadata": {},
   "outputs": [
    {
     "name": "stdout",
     "output_type": "stream",
     "text": [
      "To design a gear system with a desired gear ratio of 2:1 using herringbone gears, we need to determine the module, number of teeth for both gears, and the coordinates of the driven gear center. Let's start by defining the gear ratio and the relationship between the gears.\n",
      "\n",
      "The gear ratio (i) is defined as:\n",
      "$$ i = \\frac{N_2}{N_1} $$\n",
      "\n",
      "where \\( N_1 \\) is the number of teeth on the driving gear and \\( N_2 \\) is the number of teeth on the driven gear.\n",
      "\n",
      "Given that the desired gear ratio is 2:1, we can express this as:\n",
      "$$ i = \\frac{N_2}{N_1} = 2 $$\n",
      "\n",
      "Let's assume an initial number of teeth for the driving gear, \\( N_1 \\). Since the gear ratio is 2:1, the driven gear will have twice the number of teeth. Therefore:\n",
      "$$ N_2 = 2 \\times N_1 $$\n",
      "\n",
      "The pitch diameter (D) of a gear is related to the module (m) and the number of teeth (N) by the equation:\n",
      "$$ D = m \\times N $$\n",
      "\n",
      "Since we want the gears to mesh correctly, they must have the same module. Let's choose a module for the gears. We will start with a common module size and adjust as necessary to meet the design requirements.\n",
      "\n",
      "Let's start with a module of 2 mm (a common size) and calculate the pitch diameters. We can adjust the module later if needed.\n",
      "\n",
      "For the driving gear:\n",
      "$$ D_1 = m \\times N_1 $$\n",
      "\n",
      "For the driven gear:\n",
      "$$ D_2 = m \\times N_2 = m \\times (2 \\times N_1) = 2 \\times D_1 $$\n",
      "\n",
      "Since the gear ratio is 2:1, let's choose a reasonable number of teeth for the driving gear, such as \\( N_1 = 20 \\) (a common number for standard gears). This gives us:\n",
      "$$ N_2 = 2 \\times N_1 = 2 \\times 20 = 40 $$\n",
      "\n",
      "Now we can calculate the pitch diameters:\n",
      "$$ D_1 = m \\times N_1 = 2 \\times 20 = 40 \\text{ mm} $$\n",
      "$$ D_2 = m \\times N_2 = 2 \\times 40 = 80 \\text{ mm} $$\n",
      "\n",
      "The center distance (C) between the gears can be calculated as half the sum of the pitch diameters:\n",
      "$$ C = \\frac{D_1 + D_2}{2} = \\frac{40 + 80}{2} = 60 \\text{ mm} $$\n",
      "\n",
      "The coordinate of the driven gear center will be at a distance equal to the center distance from the driving gear along the x-axis (assuming the gears are aligned horizontally). Therefore, the coordinate of the driven gear center is (60, 0).\n",
      "\n",
      "Let's summarize the results so far:\n",
      "\n",
      "gear 1 (driving gear): herringbone gear, module 2mm, teeth 20, pitch diameter 40mm, helix angle 20 degrees, height 25mm, coordinate (0, 0)\n",
      "gear 2 (driven gear): herringbone gear, module 2mm, teeth 40, pitch diameter 80mm, helix angle 20 degrees, height 16mm, coordinate (60, 0)\n",
      "\n",
      "However, we need to check if the module of 2 mm is available in the priority list provided. Since 2 mm is in the list, we can finalize this design.\n",
      "\n",
      "Final result:\n",
      "\n",
      "gear 1 (driving gear): herringbone gear, module 2mm, teeth 20, pitch diameter 40mm, helix angle 20 degrees, height 25mm, coordinate (0, 0)\n",
      "gear 2 (driven gear): herringbone gear, module 2mm, teeth 40, pitch diameter 80mm, helix angle 20 degrees, height 16mm, coordinate (60, 0)\n"
     ]
    }
   ],
   "source": [
    "print(res.choices[0].message.content)"
   ]
  },
  {
   "cell_type": "code",
   "execution_count": 17,
   "metadata": {},
   "outputs": [],
   "source": [
    "with open(os.path.join(FILE_DIR, DESIGN_FILENAME), \"w\") as f:\n",
    "    f.write(res.choices[0].message.content)"
   ]
  },
  {
   "cell_type": "code",
   "execution_count": 27,
   "metadata": {},
   "outputs": [],
   "source": [
    "parsing_description = \\\n",
    "f\"gear 1 (driving gear): herringbone gear, module 2mm, teeth 20, pitch diameter 40mm, helix angle 20 degrees, height 25mm, coordinate (0, 0) \" + \\\n",
    "f\"pressure angle 20 degrees \\n\" + \\\n",
    "f\"gear 2 (driven gear): herringbone gear, module 2mm, teeth 40, pitch diameter 80mm, helix angle 20 degrees, height 16mm, coordinate (60, 0) \" + \\\n",
    "f\"pressure angle 20 degrees\""
   ]
  },
  {
   "cell_type": "code",
   "execution_count": 28,
   "metadata": {},
   "outputs": [],
   "source": [
    "parsing_messages = [\n",
    "    {\"role\": \"system\", \"content\": parsing_prompt},\n",
    "    {\"role\": \"user\", \"content\": parsing_description},\n",
    "]"
   ]
  },
  {
   "cell_type": "code",
   "execution_count": 29,
   "metadata": {},
   "outputs": [],
   "source": [
    "parsing_response = client.chat.completions.create(\n",
    "    model=config['GPT_MODEL'],\n",
    "    response_format={ \"type\": \"json_object\" },\n",
    "    messages=parsing_messages,\n",
    ")"
   ]
  },
  {
   "cell_type": "code",
   "execution_count": 30,
   "metadata": {},
   "outputs": [
    {
     "name": "stdout",
     "output_type": "stream",
     "text": [
      "{\n",
      "  \"gear 1\": {\n",
      "    \"gear_type\": \"herringbone\",\n",
      "    \"source\": \"driving\",\n",
      "    \"coordinate\": {\n",
      "      \"x\": 0,\n",
      "      \"y\": 0,\n",
      "      \"z\": 0,\n",
      "      \"alpha\": 0,\n",
      "      \"beta\": 0,\n",
      "      \"gamma\": 0\n",
      "    },\n",
      "    \"unit\": \"mm\",\n",
      "    \"module\": 2,\n",
      "    \"teeth\": 20,\n",
      "    \"height\": 25,\n",
      "    \"pitch_d\": 40,\n",
      "    \"pitch_angle\": 20,\n",
      "    \"pressure_angle\": 20\n",
      "  },\n",
      "  \"gear 2\": {\n",
      "    \"gear_type\": \"herringbone\",\n",
      "    \"source\": \"driven\",\n",
      "    \"coordinate\": {\n",
      "      \"x\": 60,\n",
      "      \"y\": 0,\n",
      "      \"z\": 0,\n",
      "      \"alpha\": 0,\n",
      "      \"beta\": 0,\n",
      "      \"gamma\": 0\n",
      "    },\n",
      "    \"unit\": \"mm\",\n",
      "    \"module\": 2,\n",
      "    \"teeth\": 40,\n",
      "    \"height\": 16,\n",
      "    \"pitch_d\": 80,\n",
      "    \"pitch_angle\": 20,\n",
      "    \"pressure_angle\": 20\n",
      "  }\n",
      "}\n"
     ]
    }
   ],
   "source": [
    "gears_parameters = parsing_response.choices[0].message.content.strip()\n",
    "print(gears_parameters)"
   ]
  },
  {
   "cell_type": "code",
   "execution_count": 33,
   "metadata": {},
   "outputs": [],
   "source": [
    "with open(os.path.join(FILE_DIR, PARAMETERS_FILENAME), \"w\") as f:\n",
    "    f.write(gears_parameters)"
   ]
  },
  {
   "cell_type": "code",
   "execution_count": 34,
   "metadata": {},
   "outputs": [],
   "source": [
    "with open(os.path.join(FILE_DIR, PARAMETERS_FILENAME), \"r\") as f:\n",
    "    parameters = json.load(f)\n",
    "parameters = str(parameters)\n",
    "\n",
    "scripting_description = f\"Write a script according to provided parameters of gears \\n\" + parameters"
   ]
  },
  {
   "cell_type": "code",
   "execution_count": 35,
   "metadata": {},
   "outputs": [],
   "source": [
    "script_messages = [\n",
    "    {\"role\": \"system\", \"content\": scripting_prompt},\n",
    "    {\"role\": \"user\", \"content\": scripting_description}\n",
    "]"
   ]
  },
  {
   "cell_type": "code",
   "execution_count": 36,
   "metadata": {},
   "outputs": [
    {
     "name": "stdout",
     "output_type": "stream",
     "text": [
      "\n",
      "You are an expert in 3D modeling with Computer-aided design package.\n",
      "You need to write a model script in OpenSCAD to parametrically build the 3D geometry with parameters in the given json file. \n",
      "The json format is given by: {'gear 1': {'gear_type': '', 'source': '', 'coordinate': {'x': '', 'y': '', 'z': '', 'alpha': '', 'beta': '', 'gamma': ''}, 'unit': '', 'module': '', 'teeth': '', 'height': '', 'pitch_d': '', 'pitch_angle': '', 'pressure_angle': ''}}\n",
      "\n",
      "The process of writing script is described as follow:\n",
      "\n",
      "Firstly, you should set the spatial position of items based on 'coordinate' parameters.\n",
      "If 'gear_type' are not 'spur', the pitch_angle should be inverse to each other.\n",
      "If the 'source' are not 'driving', the 'gamma' is equal to 360 / (teeth * 2), then write to the script: \n",
      "translate([x,y,z]) rotate([alpha, beta, gamma])\n",
      "\n",
      "Next, based on the 'gear_type' in the Json file to choose the most related command and then write to the script from following functions:\n",
      "spur gear => gear(m=module, z=teeth, h=height, w=pressure_angle); \n",
      "helix gear => gear_helix(m=module, z=teeth, h=height, w=pressure_angle, w_helix=pitch_angle); \n",
      "herringbone gear => gear_herringbone(m=module, z=teeth, h=height, w=pressure_angle, w_helix=pitch_angle);\n",
      "bevel gear => gear_bevel(m=module, z=teeth, h=height, w=pressure_angle, w_helix=pitch_angle, w_bevel=bevel_angle);\n",
      "\n",
      "REMEMBER to follow all mentioned formats strictlly.\n",
      "NO textual comments, descriptions and any other symbol.\n",
      "\n"
     ]
    }
   ],
   "source": [
    "print(scripting_prompt)"
   ]
  },
  {
   "cell_type": "code",
   "execution_count": 37,
   "metadata": {},
   "outputs": [],
   "source": [
    "scripting_response = client.chat.completions.create(\n",
    "    model=config['GPT_MODEL'],\n",
    "    messages=script_messages,\n",
    "    # temperature=0\n",
    ")"
   ]
  },
  {
   "cell_type": "code",
   "execution_count": 38,
   "metadata": {},
   "outputs": [],
   "source": [
    "def script_postprocessing(script):\n",
    "    # To remove textual perfix or suffix information in the raw script generated by GPT-4\n",
    "    pattern = re.compile(r'```(?:openscad|scad)(.*?)```', re.DOTALL)\n",
    "    matches = re.findall(pattern, script)\n",
    "    clean_script = \"\"\n",
    "    if len(matches) > 0:\n",
    "        for m in matches:\n",
    "            clean_script = clean_script + m.strip()\n",
    "    else:\n",
    "        clean_script = script\n",
    "    return clean_script"
   ]
  },
  {
   "cell_type": "code",
   "execution_count": 39,
   "metadata": {},
   "outputs": [
    {
     "name": "stdout",
     "output_type": "stream",
     "text": [
      "translate([0,0,0]) rotate([0,0,0])\n",
      "gear_herringbone(m=2, z=20, h=25, w=20, w_helix=20);\n",
      "translate([60,0,0]) rotate([0,0,360/(40*2)])\n",
      "gear_herringbone(m=2, z=40, h=16, w=20, w_helix=-20);\n"
     ]
    }
   ],
   "source": [
    "script = scripting_response.choices[0].message.content.strip()\n",
    "script = script_postprocessing(script)\n",
    "print(script)"
   ]
  },
  {
   "cell_type": "code",
   "execution_count": 40,
   "metadata": {},
   "outputs": [],
   "source": [
    "with open(os.path.join(FILE_DIR, SCRIPT_FILENAME), \"w\") as f:\n",
    "    f.write(\"include <gears.scad>\")\n",
    "\n",
    "with open(os.path.join(FILE_DIR, SCRIPT_FILENAME), \"a\") as f:\n",
    "    f.write(\"\\n\" + script)"
   ]
  },
  {
   "cell_type": "code",
   "execution_count": 8,
   "metadata": {},
   "outputs": [
    {
     "data": {
      "text/plain": [
       "<Popen: returncode: None args: ['D:\\\\openSCAD\\\\install\\\\openscad.exe', '../c...>"
      ]
     },
     "execution_count": 8,
     "metadata": {},
     "output_type": "execute_result"
    }
   ],
   "source": [
    "subprocess.Popen([OPENSCAD_EXEC, os.path.join(FILE_DIR, SCRIPT_FILENAME)])"
   ]
  },
  {
   "cell_type": "code",
   "execution_count": null,
   "metadata": {},
   "outputs": [],
   "source": []
  }
 ],
 "metadata": {
  "kernelspec": {
   "display_name": "chatbot",
   "language": "python",
   "name": "python3"
  },
  "language_info": {
   "codemirror_mode": {
    "name": "ipython",
    "version": 3
   },
   "file_extension": ".py",
   "mimetype": "text/x-python",
   "name": "python",
   "nbconvert_exporter": "python",
   "pygments_lexer": "ipython3",
   "version": "3.10.13"
  }
 },
 "nbformat": 4,
 "nbformat_minor": 2
}
